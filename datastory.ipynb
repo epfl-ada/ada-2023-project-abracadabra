{
 "cells": [
  {
   "cell_type": "markdown",
   "metadata": {},
   "source": [
    "How wonderful are the online communities! In the vast landscape of the digital era, the emergence of online communities stands as a demonstration of the transformative power of the internet. This virtual world offers a unique and powerful means for people from every corner of the globe to connect and exchange ideas, fostering the development of new tools and platforms from collaborative efforts of which Wikipedia is a prime example. However, the growth of these communities brings with it a new set of challenges related to the organization and management at such a large scale: How can thousands to millions of users make a decision together and agree on common rules and goal? \n",
    "To address this question, we study the case of Wikipedia, the largest online encyclopedia, which has been built and maintained by millions of volunteers over the past two decades. In particular, we focus on the English Wikipedia, which is the largest Wikipedia edition with more than 6 million articles and 3 million registered users (check the values) and for which we have access to a comprehensive dataset spanning from 2003 to 2013, focusing on Wikipedia elections namely : the Requests for Adminship (RfA) as well as a dataset of the number of monthly edits per user over the same period. \n",
    "The relevance of choosing Wikipedia as a case study is twofold. First, Wikipedia is a unique example of a large-scale online community that has been able to sustain itself over the years and despite its impressive growth. Second, Wikipedia has a well-defined and transparent process for electing administrators with publicly available data, which makes it an ideal case study for understanding the dynamics of collective decision-making in online communities."
   ]
  },
  {
   "cell_type": "markdown",
   "metadata": {},
   "source": [
    "One first step towards understanding the process of collective decision-making is to study the dynamics of voting behavior over time. In particular, we are interested in the temporal patterns of votes and how they relate to the final outcome of the election.\n",
    "To extract the timing of votes, we used the timestamps given in the raw data and defined the first vote casted for a target as the starting point of an election round. From there, we wondered if we could extract groups of voters that would vote earlier or later in the election which would be indicative of influential and influenced voters respectively.\n",
    "<PLOT DISTRIB VOTING TIME WITH YEAR>\n",
    "By seeing the distribution of voting times, we were surprised to discover a bimodal distribution (when using a log scale) and in conjunction with our idea of splitting voters into two groups, we were tempted to explain this phenomenon as indicating the actual existence of two groups of voters separated by their voting time. However, after some investigation of the data and looking into the literature about the RfA rules, we quickly realized that this bimodal distribution can actually be easily explained by the fact that some targets that were not elected would be re-nominated and thus would have a second round of votes (or even more). And after delving deeper into the data and with the information we found on the RfA process, we were able to define properties of the voting time enabling us to distinguish multiple rounds of votes for a given target. We could also check that the resulting rounds were consistent with the data by extracting some comments coherent with our assumptions.\n",
    "<EXAMPLE ROUND NUMBER 7>\n",
    "Once this processing step done, we ended up with a heavy tailed distribution of voting times with a median of 2 days, consistent over the years. Notre tentatives d'extraire 2 groupes de votants ne semble donc pas correspondre à la réalité des votes mais avant de conclure trop rapidement nous avons préféré vérifier notre hypothèse en examinant le comportement des sources directement. Nous avons donc extraits la moyenne et l'écart type des votes de chaque source et avons représenté la distribution de ces valeurs. \n",
    "<PLOT DISTRIB VOTING TIME OF SOURCES>\n",
    "Mais cette fois encore nous obtons une distribution normale unimodale ne nous permettant pas de conclure à l'existence de quelconque groupe de votants.\n",
    "\n",
    "Pour continuer sur notre lancée initial, nous avons donc décidé de nous concentrer sur les votes eux-mêmes et en particulier sur leur évolution au cours du temps. Plus précisément, nous voulions savoir comment et à quel moment le résultat d'une élection était déterminé. Nous voulions notamment savoir si les votes pour et contre étaient homogènes au cours du temps ou si au contraire ils divergeaient à un moment donné pour renforcer la décision finale. Pour cela, nous avons commencé par calculer l'évolution de la moyenne des votes au cours du temps et pour chaque élection. \n",
    "<PLOT EVOLUTION PROGRESSIVE MEAN VOTES CI> <PLOT EVOLUTION PROGRESSIVE MEAN VOTES QUARTILES>\n",
    "À notre grand étonnement, nous avons constaté que la finalité d'une élection était en fait déterminée très rapidement dans la plupart des cas, en témoigne la nette séparation des moyennes en début d'élection (après agrégation de l'ensemble des rounds pour toutes les targets) pour les nominations réussies et échouées (Figure de gauche). Ce plot nous a également permis de vérifier que la proportion de votes positifs et négatifs était bien corrélée à la décision finale de l'élection en témoigne l'absence de chevauchement des intervalles de confiance des moyennes. Pour aller plus loin, nous avons également calculé l'évolution des quartiles et de la médiane des votes au cours du temps pour en savoir plus sur la dispersion des tendances et force est de constater que les distributions sont là aussi nettement distinctes (Figure de droite) avec encore une fois un écart marqué dès le tout début de l'élection qui ensuite se réduit légèrement. \n",
    "Il semble donc évident que la finalité d'une élection est déterminée très rapidement et que les votes qui suivent ne font que confirmer en atténuant quelque peu la tendance initiale. Pour aller plus loin dans cette analyse, nous avons donc décidé d'implémenter un modèle de classification permettant de prédire si un admin sera élu ou non uniquement à partir des premiers votes enregistrés. \n",
    "<PLOT METRIC PREDICTION>\n",
    "Nous avons fais le choix d'évaluer les prédictions de notre modèle à l'aide des métriques d'accuracy, de précision et de rappel pour avoir une meilleure idée de comment les prédictions se comportent. Les résultats obtenus sont cohérents avec ce que nous avons pu observer précédemment, à savoir que le plateau de performance est atteint très rapidement pour l'ensemble des trois métriques. En étudiant un peu plus les valeurs des courbes nous avons pu constater que l'accuracy est relativement élevée (atteignant un plateau à 0.87) mais connaissant l'imbalance dans la quantité de nominations réussies par rapport à celles échouées (62% des targets sont acceptées) il y a fort à parier que cette métrique soit biaisée si par exemple le modèle prédit facilement que les nominations sont acceptées. Dans le but d'éviter ce biais, nous avons préféré nous concentrer sur les métriques de précision et de rappel et au vu des résultats, il semble que le modèle produise effectivement très peu de faux négatif, en atteste la valeur de rappel qui atteint un plateau à 93% et reste relativement stable peu importe le nombre de votes considérés. La précision quant à elle est très similaire à l'accuracy et nous permet donc de conclure que les erreurs du modèle sont principalement des faux positifs.  "
   ]
  }
 ],
 "metadata": {
  "language_info": {
   "name": "python"
  }
 },
 "nbformat": 4,
 "nbformat_minor": 2
}
