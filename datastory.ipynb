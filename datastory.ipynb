{
 "cells": [
  {
   "cell_type": "markdown",
   "metadata": {},
   "source": [
    "How wonderful are the online communities! In the vast landscape of the digital era, the emergence of online communities stands as a demonstration of the transformative power of the internet. This virtual world offers a unique and powerful means for people from every corner of the globe to connect and exchange ideas, fostering the development of new tools and platforms from collaborative efforts of which Wikipedia is a prime example. However, the growth of these communities brings with it a new set of challenges related to the organization and management at such a large scale: How can thousands to millions of users make a decision together and agree on common rules and goal? \n",
    "To address this question, we study the case of Wikipedia, the largest online encyclopedia, which has been built and maintained by millions of volunteers over the past two decades. In particular, we focus on the English Wikipedia, which is the largest Wikipedia edition with more than 6 million articles and 3 million registered users (check the values) and for which we have access to a comprehensive dataset spanning from 2003 to 2013, focusing on Wikipedia elections namely : the Requests for Adminship (RfA) as well as a dataset of the number of monthly edits per user over the same period. \n",
    "The relevance of choosing Wikipedia as a case study is twofold. First, Wikipedia is a unique example of a large-scale online community that has been able to sustain itself over the years and despite its impressive growth. Second, Wikipedia has a well-defined and transparent process for electing administrators with publicly available data, which makes it an ideal case study for understanding the dynamics of collective decision-making in online communities."
   ]
  },
  {
   "cell_type": "markdown",
   "metadata": {},
   "source": [
    "One first step towards understanding the process of collective decision-making is to study the dynamics of voting behavior over time. In particular, we are interested in the temporal patterns of votes and how they relate to the final outcome of the election.\n",
    "To extract the timing of votes, we used the timestamps given in the raw data and defined the first vote casted for a target as the starting point of an election round. From there, we wondered if we could extract groups of voters that would vote earlier or later in the election which would be indicative of influential and influenced voters respectively.\n",
    "<PLOT DISTRIB VOTING TIME WITH YEAR>\n",
    "By seeing the distribution of voting times, we were surprised to discover a bimodal distribution (when using a log scale) and in conjunction with our idea of splitting voters into two groups, we were tempted to explain this phenomenon as indicating the actual existence of two groups of voters separated by their voting time. However, after some investigation of the data and looking into the literature about the RfA rules, we quickly realized that this bimodal distribution can actually be easily explained by the fact that some targets that were not elected would be re-nominated and thus would have a second round of votes (or even more). And after delving deeper into the data and with the information we found on the RfA process, we were able to define properties of the voting time enabling us to distinguish multiple rounds of votes for a given target. We could also check that the resulting rounds were consistent with the data by extracting some comments coherent with our assumptions.\n",
    "<EXAMPLE ROUND NUMBER 7>\n",
    "Once this processing step done, we ended up with a heavy tailed distribution of voting times with a median of 2 days, consistent over the years. Notre tentatives d'extraire 2 groupes de votants ne semble donc pas correspondre à la réalité des votes mais avant de conclure trop rapidement nous avons préféré vérifier notre hypothèse en examinant le comportement des sources directement. Nous avons donc extraits la moyenne et l'écart type des votes de chaque source et avons représenté la distribution de ces valeurs. \n",
    "<PLOT DISTRIB VOTING TIME OF SOURCES>\n",
    "Mais cette fois encore nous obtons une distribution normale unimodale ne nous permettant pas de conclure à l'existence de quelconque groupe de votants.\n",
    "\n",
    "Pour continuer sur notre lancée initial, nous avons donc décidé de nous concentrer sur les votes eux-mêmes et en particulier sur leur évolution au cours du temps. Plus précisément, nous voulions savoir comment et à quel moment le résultat d'une élection était déterminé. Nous voulions notamment savoir si les votes pour et contre étaient homogènes au cours du temps ou si au contraire ils divergeaient à un moment donné pour renforcer la décision finale. Pour cela, nous avons commencé par calculer l'évolution de la moyenne des votes au cours du temps et pour chaque élection. \n",
    "<PLOT EVOLUTION PROGRESSIVE MEAN VOTES CI> <PLOT EVOLUTION PROGRESSIVE MEAN VOTES QUARTILES>\n",
    "À notre grand étonnement, nous avons constaté que la finalité d'une élection était en fait déterminée très rapidement dans la plupart des cas, en témoigne la nette séparation des moyennes en début d'élection (après agrégation de l'ensemble des rounds pour toutes les targets) pour les nominations réussies et échouées (Figure de gauche). Ce plot nous a également permis de vérifier que la proportion de votes positifs et négatifs était bien corrélée à la décision finale de l'élection en témoigne l'absence de chevauchement des intervalles de confiance des moyennes. Pour aller plus loin, nous avons également calculé l'évolution des quartiles et de la médiane des votes au cours du temps pour en savoir plus sur la dispersion des tendances et force est de constater que les distributions sont là aussi nettement distinctes (Figure de droite) avec encore une fois un écart marqué dès le tout début de l'élection qui ensuite se réduit légèrement. \n",
    "Il semble donc évident que la finalité d'une élection est déterminée très rapidement et que les votes qui suivent ne font que confirmer en atténuant quelque peu la tendance initiale. Pour aller plus loin dans cette analyse, nous avons donc décidé d'implémenter un modèle de classification permettant de prédire si un admin sera élu ou non uniquement à partir des premiers votes enregistrés. \n",
    "<PLOT METRIC PREDICTION>"
   ]
  },
  {
   "cell_type": "markdown",
   "metadata": {},
   "source": [
    "Nous avons fais le choix d'évaluer les prédictions de notre modèle à l'aide des métriques d'accuracy, de précision et de rappel pour avoir une meilleure idée de comment les prédictions se comportent. Les résultats obtenus sont cohérents avec ce que nous avons pu observer précédemment, à savoir que le plateau de performance est atteint très rapidement pour l'ensemble des trois métriques. En étudiant un peu plus les valeurs des courbes nous avons pu constater que l'accuracy est relativement élevée (atteignant un plateau à 0.87) mais connaissant l'imbalance dans la quantité de nominations réussies par rapport à celles échouées (62% des targets sont acceptées) il y a fort à parier que cette métrique soit biaisée si par exemple le modèle prédit facilement que les nominations sont acceptées. Dans le but d'éviter ce biais, nous avons préféré nous concentrer sur les métriques de précision et de rappel et au vu des résultats, il semble que le modèle produise effectivement très peu de faux négatif, en atteste la valeur de rappel qui atteint un plateau à 93% et reste relativement stable peu importe le nombre de votes considérés. La précision quant à elle est très similaire à l'accuracy et nous permet donc de conclure que les erreurs du modèle sont principalement des faux positifs. \n",
    "En fin de compte, il semble donc que dans la majorité des cas les premiers votes enregistrés permettent facilement de déterminer si une nomination sera rejettée mais qu'il est plus difficile de savoir avec certitude si elle sera acceptée car dans un certain nombre de cas, les premiers votes sont en faveur de nominations qui seront finalement rejetées.\n",
    "Cette remarque est d'ailleurs facilement illustrée en regardant la distribution des votes en fonction du temps pour les nominations réussies et échouées.\n",
    "<PLOT HISTOGRAM VOTES OVER TIME>\n",
    "On constate en effet que bien que les distributions soient nettement différentes et que les nominations rejetées sont plus négatives que celles acceptées, elles se chevauchent tout de même en partie, tout particulièrement dans la partie positive de la distribution des votes.\n",
    "\n",
    "Deux considérations s'imposent donc à nous : \n",
    "- Premièrement, le fait qu'il soit possible de prédire avec une telle accuracy le résultat d'une élection à partir des premiers votes enregistrés nous laisse penser qu'il se pourrait que des premiers votes négatifs puissent influencer les votes suivants et ainsi déterminer le résultat final de l'élection de manière prématurée. Il serait donc intéressant de vérifier si la corrélation que nous avons observé entre les premiers votes et le résultat final est causale et indicative d'un phénomène d'influence ou bien si d'autres facteurs entrent en jeu expliquant à la fois la tendance initiale négative et le résultat final de l'élection.\n",
    "- Deuxièmement, le fait que dans le cas où les premiers votes sont plutôt positifs, il soit plus difficile de prédire le résultat final de l'élection nous amène à considérer la possibilité qu'un vote ou un groupe de votes enrégistrés plus tard dans l'élection puisse faire basculer les tendances et ainsi influencer le résultat final de l'élection.\n",
    "\n",
    "Dans le but de répondre à ces deux questions, et d'avoir donc une vision plus nuancée des votes qui composent une élection, nous avons décidé d'utiliser les commentaires qui sont à noter disposition. En effet, les commentaires sont une source d'information très riche et nous permettent d'avoir accès à des informations qui ne sont pas directement disponibles dans les votes, les valeurs qu'ils peuvent prendre étant limités à +1, 0, -1 il est difficile de se figurer l'intensité et l'intension réelle d'un votant. Utiliser les commentaires nous permet donc d'avoir une vision plus fine des votes et ainsi de peut-être pouvoir être plus nuancé dans notre analyse. \n",
    "Pour se faire, notre première approche a été d'effectuer une analyse de sentiment sur les commentaires afin de pouvoir extraire la polarité de chaque commentaire et ainsi avoir une idée de l'intensité des votes. Indeed, it allows to generate a continuous value score between -1 and 1 for a given text, -1 meaning the text is totally negative, neutral if it is 0, and totally positive if it is 1.\n",
    "<PLOT HISTOGRAM SENTIMENT SCORE>\n",
    "Nous voyons déjà que la majorité des commentaires sont neutres et que les commentaires positifs sont plus nombreux que les commentaires négatifs. Pour aller plus loin, nous avons décidé de voir si ces proportions étaient constantes au cours des années.\n",
    "<PLOT COUNT SENTIMENT SCORE BY YEAR>"
   ]
  },
  {
   "cell_type": "markdown",
   "metadata": {},
   "source": [
    "Nous constatons ici un résultat assez surprenant, en effet, nous nous attendions à ce que les proportions de commentaires positifs et négatifs soient relativement constantes au cours des années mais il semble que ce ne soit pas le cas. En effet, nous observons une claire diminution du nombre de commentaires neutres au profit des commentaires positifs et négatifs. Cette observation nous amène à penser qu'au fil des années, les votants sont de plus en plus enclins à exprimer leur opinion de manière tranchée et à prendre position dans les commentaires, ce qui est à notre avantages car cela nous permet d'avoir de plus amples informations sur les raisons qui poussent les votants à voter pour ou contre une nomination et ainsi d'avoir un meilleur aperçu de quels paramètres entrent en jeu dans le processus de décision.\n",
    "\n",
    "À partir de ces nouvelles données, nous avons donc décidé de reproduire les analyses précédentes en utilisant les scores de sentiment à la place des votes dans l'espoir d'avoir des résultats encore plus marqués que ceux que nous avons obtenus jusqu'à présent. Malheureusement, nous avons assez rapidement dû nous rendre à l'évidence que les scores de sentiment n'étaient au final pas suffisamment polarisés pour nous permettre d'avoir des résultats plus distincts que ceux que nous avons déjà obtenus. \n",
    "<PLOT EVOLUTION PROGRESSIVE MEAN SENTIMENT CI> \n",
    "En effet et en témoigne la figure ci-dessus, nous constatons que les courbes de tendances sont beaucoup trop rapporchées pour pouvoir en tirer des conclusions plus pertinentes que celles que nous avons jusque là malgré que les nominations acceptées soient effectivement légèrement plus positives que les nominations rejetées. On peut toutefois noter que la dispersion des valeurs est beaucoup plus importante avec les scores de sentiment qu'avec les votes malgré le fait que, ayant une grande majorité de commentaires neutres on s'attendait au contraire à avoir des valeurs plus resserrées. \n",
    "Mais en fin de compte, nous avons dû nous rendre à l'évidence que la distribution des scores de sentiment au cours du temps était surtout le reflet de la distribution des scores en tant que telles et non pas du succès ou de l'échec d'une nomination.\n",
    "\n",
    "Cette échec ne nous a malgré tout pas empêché de continuer à explorer les commentaires. Au contraire, nous venions de soulever le fait que considérer uniquement la polarité des commentaires n'était pas suffisant pour pouvoir en tirer des conclusions pertinentes, cela nous a donc amener à penser que justement la negativité des commentaires n'était pas le facteur à prendre en compte et que les raisons justifiant les votes étaient donc plus complexes que cela. Nous avons donc décidé de nous intéresser à la sémantique des commentaires. En effet, nous avons pensé que les commentaires pouvaient être une source d'information très riche et qu'il serait intéressant de voir si nous pouvions extraire des informations plus précises sur les raisons qui poussent les votants à voter pour ou contre une nomination. Pour se faire, nous avons décidé d'utiliser un modèle de topic modeling afin de pouvoir extraire les sujets principaux des commentaires et ainsi avoir une idée de ce qui est discuté dans les commentaires."
   ]
  }
 ],
 "metadata": {
  "language_info": {
   "name": "python"
  }
 },
 "nbformat": 4,
 "nbformat_minor": 2
}
