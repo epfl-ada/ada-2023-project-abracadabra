{
 "cells": [
  {
   "cell_type": "code",
   "execution_count": 1,
   "metadata": {},
   "outputs": [],
   "source": [
    "%load_ext autoreload"
   ]
  },
  {
   "cell_type": "code",
   "execution_count": 2,
   "metadata": {},
   "outputs": [],
   "source": [
    "%autoreload 2\n",
    "import numpy as np\n",
    "import pandas as pd\n",
    "import matplotlib.pyplot as plt\n",
    "import seaborn as sns\n",
    "\n",
    "import P2_helpers as hlp"
   ]
  },
  {
   "cell_type": "markdown",
   "metadata": {},
   "source": [
    "# 0. Preprocesse the raw data\n",
    "### 0.1 Transform the data from the text file into a DataFrame\n",
    "Simply by reading line by line the text file, changing each \"paragraph\" into an entry of the new DF."
   ]
  },
  {
   "cell_type": "code",
   "execution_count": null,
   "metadata": {},
   "outputs": [],
   "source": [
    "# Read the file into a list of lines\n",
    "with open('wiki-RfA.txt', 'r') as file:\n",
    "    lines = file.readlines()\n",
    "\n",
    "# Create a list of dictionaries, where each dictionary represents a record\n",
    "df = []\n",
    "current_entry = {}\n",
    "\n",
    "# Iterate through each line, current_entry = one log entry with all columns, df = list of all votee/voter pairs\n",
    "for line in lines:\n",
    "    line = line.strip()\n",
    "    if line:\n",
    "        key, value = line.split(':', 1)\n",
    "        current_entry[key] = value\n",
    "    else:\n",
    "        df.append(current_entry)\n",
    "        current_entry = {}\n",
    "\n",
    "# Append  last record\n",
    "if current_entry:\n",
    "    df.append(current_entry)\n",
    "\n",
    "# Convert into DataFrame and store in csv\n",
    "df = pd.DataFrame(df)\n",
    "df.columns = ['Source', 'Target', 'Vote', 'Results', 'Year', 'Date', 'Comment']\n",
    "original_df = df.copy()\n",
    "df.sample(3)\n"
   ]
  },
  {
   "cell_type": "markdown",
   "metadata": {},
   "source": [
    "### 0.2 Handle inconsistent data\n",
    " - Replace entirely space field or empyt filed by Numpy NaN values. Please note that the value None in the Comment is preferred.\n",
    " - Handle the inconsistent \"Date\" format.\n",
    " - Convert the type of Year into integer."
   ]
  },
  {
   "cell_type": "code",
   "execution_count": null,
   "metadata": {},
   "outputs": [],
   "source": [
    "# Set Nan values\n",
    "# replace field that's entirely space (or empty) with NaN (the case for some Source, Date and Comment)\n",
    "df.replace(r'^\\s*$', np.nan, regex=True, inplace=True)\n",
    "\n",
    "#handle NaN values in Comment for vectorization\n",
    "df.Comment = df.Comment.replace(np.nan, None)\n",
    "\n",
    "# replace inconsistent date\n",
    "df['Date'] = df['Date'].str.replace('Julu ', 'July ')\n",
    "df['Date'] = df['Date'].str.replace('Janry ', 'January ')\n",
    "df['Date'] = df['Date'].str.replace('Mya ', 'May ')\n",
    "df['Date'] = df['Date'].str.replace('Jan ', 'January ')\n",
    "df['Date'] = df['Date'].str.replace('Feb ', 'February ')\n",
    "df['Date'] = df['Date'].str.replace('Mar ', 'March ')\n",
    "df['Date'] = df['Date'].str.replace('Apr ', 'April ')\n",
    "df['Date'] = df['Date'].str.replace('Jun ', 'June ')\n",
    "df['Date'] = df['Date'].str.replace('Jul ', 'July ')\n",
    "df['Date'] = df['Date'].str.replace('Aug ', 'August ')\n",
    "df['Date'] = df['Date'].str.replace('Sep ', 'September ')\n",
    "df['Date'] = df['Date'].str.replace('Oct ', 'October ')\n",
    "df['Date'] = df['Date'].str.replace('Nov ', 'November ')\n",
    "df['Date'] = df['Date'].str.replace('Dec ', 'December ')\n",
    "\n",
    "# Convert Date to datetime\n",
    "df['Date'] = pd.to_datetime(df['Date'], format='%H:%M, %d %B %Y', errors='coerce')\n",
    "\n",
    "# Convert Year to int\n",
    "df['Year'] = df['Year'].astype(int)\n",
    "\n",
    "df.sample(3)"
   ]
  },
  {
   "cell_type": "markdown",
   "metadata": {},
   "source": [
    "### 0.3 Handle duplicate in the data\n",
    "Please not that by manually checking the data we found that the number 6 discriminates perfectly between users with actual duplicates and users with only missing data or basic comments\n"
   ]
  },
  {
   "cell_type": "code",
   "execution_count": null,
   "metadata": {},
   "outputs": [],
   "source": [
    "# Select users with a significant number of duplicates (by manually checking the data we found that 6 discriminate perfectly between users with actual duplicates and users with only missing data or basic comments)\n",
    "users_with_duplicates = df[df.duplicated(['Source', 'Target', 'Comment', 'Date'], keep=False) & df.Source.notnull()].groupby('Target').size() >= 6\n",
    "users_with_duplicates = users_with_duplicates[users_with_duplicates].index\n",
    "duplicates = df[df.Target.isin(users_with_duplicates) & df.duplicated(['Source', 'Target', 'Comment', 'Date'], keep=False) & df.Source.notnull()].sort_values(by=['Target', 'Source', 'Date'])\n",
    "#Remove the data of to_remove from df\n",
    "df = df.drop(duplicates.index)\n",
    "\n",
    "\n",
    "# Deal with duplicates that have different results \n",
    "perc_vote = (duplicates.groupby(['Target', 'Year']).Vote.value_counts(normalize=True) * 100).unstack(level='Vote')\n",
    "perc_vote['Result'] = perc_vote.apply(lambda x: 1 if x['1'] >= 70 else -1, axis=1, result_type='reduce')\n",
    "# Replace results in duplicates with results in perc_vote\n",
    "duplicates['Results'] = duplicates.apply(lambda x: perc_vote.loc[(x['Target'], x['Year'])]['Result'].astype(int), axis=1)\n",
    "\n",
    "\n",
    "# Deal with duplicates that have different years\n",
    "correct_year = pd.DataFrame({'Year': duplicates.Date.dt.year, 'Target': duplicates.Target})\n",
    "# Replace nan values in Year with most common year for each Target (some Dates are missing)\n",
    "correct_year.Year = correct_year.groupby('Target').Year.transform(lambda x: x.fillna(x.mode()[0]))\n",
    "# Replace years in duplicates with years in correct_year\n",
    "duplicates = duplicates.drop(columns='Year').join(correct_year.Year)\n",
    "\n",
    "# Drop the duplicate rows \n",
    "duplicates.drop_duplicates(keep='first', inplace=True)\n",
    "# Add the duplicates to df\n",
    "df = pd.concat([df, duplicates]).sort_index()\n",
    "\n",
    "\n",
    "# Deal with duplicates that have different Vote\n",
    "double_vote = df[df.duplicated(['Source', 'Target', 'Comment', 'Date'], keep=False) & df.Source.notnull() & df.Date.notnull() & (df.Vote == '0')]\n",
    "# Drop the double_vote rows\n",
    "df.drop(double_vote.index, inplace=True)\n",
    "\n",
    "df.sample(3)"
   ]
  },
  {
   "cell_type": "markdown",
   "metadata": {},
   "source": [
    "### 0.4 Saving the DataFrame "
   ]
  },
  {
   "cell_type": "code",
   "execution_count": null,
   "metadata": {},
   "outputs": [],
   "source": [
    "#df.to_csv('wiki-RfA.csv')"
   ]
  },
  {
   "cell_type": "markdown",
   "metadata": {},
   "source": [
    "# 1. Some global statistics and visualization\n",
    "### 1.1 Basic description of the statistics"
   ]
  },
  {
   "cell_type": "code",
   "execution_count": null,
   "metadata": {},
   "outputs": [],
   "source": [
    "stats = df.describe(include='all')\n",
    "stats.loc['percentage_nan'] = (1 - stats.loc['count'] / len(df)) * 100\n",
    "stats"
   ]
  },
  {
   "cell_type": "markdown",
   "metadata": {},
   "source": [
    "### 1.2 Visualization"
   ]
  },
  {
   "cell_type": "code",
   "execution_count": null,
   "metadata": {},
   "outputs": [],
   "source": [
    "categorical_cols = ['Source', 'Target']\n",
    "value_cols = ['Vote', 'Results', 'Year']\n",
    "all_cols = categorical_cols + value_cols\n",
    "n_top = 20\n",
    "fig, axes = plt.subplots(len(all_cols), 2, figsize=(10,4*len(all_cols)))\n",
    "for i, col in enumerate(all_cols):\n",
    "    ax1 = axes[(2*i) // 2, (2*i) % 2]\n",
    "    ax2 = axes[(2*i+1) // 2, (2*i+1) % 2]\n",
    "    data = df[~df[col].isna()]\n",
    "    if col in categorical_cols:\n",
    "        top_n = pd.Series(data[col].value_counts().iloc[:n_top])\n",
    "        others = pd.Series(data[col].value_counts().iloc[n_top:].sum(), index=['Others'])\n",
    "        value_counts = pd.concat([top_n, others])\n",
    "        \n",
    "    elif col in value_cols:\n",
    "        value_counts = data[col].value_counts()\n",
    "    \n",
    "    value_counts = 100*value_counts/np.sum(value_counts)\n",
    "    labels = value_counts.index.to_list()\n",
    "\n",
    "    # Count plot\n",
    "    chart = value_counts[value_counts.index != 'Others'].plot(kind='bar', ax=ax1) \n",
    "    chart.set_xticklabels(chart.get_xticklabels(), rotation=60, horizontalalignment='right', fontsize = 8)\n",
    "    ax1.set_title('Histogram of the ' + col)\n",
    "    ax1.set_ylabel('Percentage')\n",
    "    \n",
    "    # Pie chart\n",
    "    wedges, texts, autotexts = ax2.pie(value_counts, labels = labels, autopct='%1.1f%%')\n",
    "    threshold = 2\n",
    "    for label, pct_label in zip(texts, autotexts):\n",
    "        pct_value = pct_label.get_text().rstrip('%')\n",
    "        if float(pct_value) < threshold:\n",
    "            label.set_text('')\n",
    "            pct_label.set_text('')\n",
    "    \n",
    "    #if too much labels, don't show legend\n",
    "    if len(labels) < 12:\n",
    "        ax2.legend(bbox_to_anchor=(1.05, 1), fontsize = 8)\n",
    "    ax2.set_title('Pie chart of the ' + col)\n",
    "\n",
    "fig.tight_layout()    \n",
    "plt.show()"
   ]
  },
  {
   "cell_type": "markdown",
   "metadata": {},
   "source": [
    "# 2. Time series computation and visualization of the votes and election rounds\n",
    "### 2.1 Create and describe the time series \n",
    "The voting_time series will give the time in minutes at which each vote was cast with respect to the first vote recorded for the same target. We will consider the first vote as the opening time of the polls. Thus for each target we will have a voting time of 0. We print the basic statistic of the time serie."
   ]
  },
  {
   "cell_type": "code",
   "execution_count": null,
   "metadata": {},
   "outputs": [],
   "source": [
    "voting_time = (df.groupby('Target').Date.apply(lambda x: x - x.min()).dt.total_seconds()/3600).rename('Voting_time')\n",
    "\n",
    "# add voting time to df dataframe, merge on index\n",
    "df_timeserie = df.join(voting_time.droplevel(0))\n",
    "\n",
    "# Convert Vote, Results and Year to int\n",
    "df_timeserie['Vote'] = df_timeserie['Vote'].astype(int)\n",
    "df_timeserie['Results'] = df_timeserie['Results'].astype(int)\n",
    "df_timeserie['Year'] = df_timeserie['Year'].astype(int)\n",
    "\n",
    "# Plot basic statistics\n",
    "df_timeserie['Voting_time'].describe().round(2)"
   ]
  },
  {
   "cell_type": "markdown",
   "metadata": {},
   "source": [
    "### 2.2 Missing values"
   ]
  },
  {
   "cell_type": "code",
   "execution_count": null,
   "metadata": {},
   "outputs": [],
   "source": [
    "# Targets where all voting times are NaN\n",
    "nan_target = set(df_timeserie.Target.unique()) - set(df_timeserie[~df_timeserie['Voting_time'].isna()].Target.unique())\n",
    "print('Number of target without time data:', len(nan_target), ', corresponding to', round(len(nan_target)/len(df_timeserie.Target.unique())*100, 2), '% of all targets')\n",
    "print('Target without time data:', nan_target)\n",
    "\n",
    "# Amount of NaN values in the voting time column\n",
    "print('Number of NaN values in the voting time column:', df_timeserie['Voting_time'].isna().sum(), ', corresponding to', round(df_timeserie['Voting_time'].isna().sum()/len(df_timeserie)*100, 2), '% of all values')"
   ]
  },
  {
   "cell_type": "markdown",
   "metadata": {},
   "source": [
    "Removing NaN values "
   ]
  },
  {
   "cell_type": "code",
   "execution_count": null,
   "metadata": {},
   "outputs": [],
   "source": [
    "df_timeserie = df_timeserie[~df_timeserie['Voting_time'].isna()]"
   ]
  },
  {
   "cell_type": "markdown",
   "metadata": {},
   "source": [
    "### 2.3 Analysis : Distribution of the voting time\n",
    "#### 2.3.1 Histograms\n",
    "We first plot the histogram and to be able to see something on the plot we need to use a log-axis for the votinf values. In order to be able to use it we remove the single vote that occures at time 0 for each election."
   ]
  },
  {
   "cell_type": "markdown",
   "metadata": {},
   "source": [
    "Plot histogram of voting time without log axis for voting time axis\n"
   ]
  },
  {
   "cell_type": "code",
   "execution_count": null,
   "metadata": {},
   "outputs": [],
   "source": [
    "fig, ax = plt.subplots(figsize=(10,4))\n",
    "sns.histplot(data=df_timeserie, x='Voting_time', kde=True, ax=ax, bins=100, stat='percent')\n",
    "ax.set_title('Histogram of voting time')\n",
    "ax.set_xlabel('Voting time (hours)')\n",
    "ax.set_ylabel('Percentage of votes')\n",
    "plt.show()"
   ]
  },
  {
   "cell_type": "markdown",
   "metadata": {},
   "source": [
    " Plot histogram of voting time with log axis for voting time axis\n"
   ]
  },
  {
   "cell_type": "code",
   "execution_count": null,
   "metadata": {},
   "outputs": [],
   "source": [
    "# Remove the vote at time 0 minute, to plot the histogram of voting time\n",
    "df_plot = df_timeserie[df_timeserie.Voting_time != 0]\n",
    "\n",
    "fig, ax = plt.subplots(figsize=(10,4))\n",
    "kde = sns.histplot(data=df_plot, x='Voting_time',kde=True, ax=ax, bins=100, stat='percent', log_scale=(True, False))\n",
    "ax.set_title('Histogram of voting time')\n",
    "ax.set_xlabel('Voting time (hours)')\n",
    "ax.set_ylabel('Percentage of votes')\n",
    "plt.show()"
   ]
  },
  {
   "cell_type": "markdown",
   "metadata": {},
   "source": [
    "#### 2.3.2 Plot the density function"
   ]
  },
  {
   "cell_type": "code",
   "execution_count": null,
   "metadata": {},
   "outputs": [],
   "source": [
    "# Ignore warnings for the following plot - change in layout\n",
    "import warnings \n",
    "warnings.filterwarnings('ignore')\n",
    "\n",
    "sns.set_theme(style=\"white\", rc={\"axes.facecolor\": (0, 0, 0, 0)})\n",
    "\n",
    "# Initialize the FacetGrid object\n",
    "pal = sns.cubehelix_palette(11, rot=-.25, light=.7)\n",
    "g = sns.FacetGrid(df_plot, row='Year', hue='Year', aspect=15, height=.5, palette=pal)\n",
    "\n",
    "# Draw the densities in a few steps\n",
    "g.map(sns.kdeplot, 'Voting_time', bw_adjust=.5, clip_on=False, fill=True, alpha=1, linewidth=1.5, log_scale=(True, False))\n",
    "g.map(sns.kdeplot, 'Voting_time', clip_on=False, color=\"w\", lw=2, bw_adjust=.5)\n",
    "\n",
    "# passing color=None to refline() uses the hue mapping\n",
    "g.refline(y=0, linewidth=2, linestyle=\"-\", color=None, clip_on=False)\n",
    "\n",
    "\n",
    "# Define and use a simple function to label the plot in axes coordinates\n",
    "def label(x, color, label):\n",
    "      ax = plt.gca()\n",
    "      ax.text(0, .2, label, fontweight=\"bold\", color=color,\n",
    "                  ha=\"left\", va=\"center\", transform=ax.transAxes)\n",
    "\n",
    "g.map(label, 'Voting_time')\n",
    "\n",
    "# Set figure properties\n",
    "#g.fig.set_tight_layout(True)\n",
    "g.fig.subplots_adjust(hspace=-.25)\n",
    "g.fig.set_figwidth(10)\n",
    "g.fig.set_figheight(10)\n",
    "g.fig.suptitle('Density plot of voting time per year', fontsize=16, y=0.9)\n",
    "g.fig.supylabel('Density', fontsize=14, x=0.1)\n",
    "g.fig.supxlabel('Voting time (hours)', fontsize=14, y=0.05)\n",
    "\n",
    "# Remove axes details that don't play well with overlap\n",
    "g.set_titles(\"\")\n",
    "g.set(yticks=[], ylabel='', xlabel='')\n",
    "g.despine(bottom=True, left=True)\n",
    "\n",
    "plt.show()\n",
    "sns.set_theme()"
   ]
  },
  {
   "cell_type": "markdown",
   "metadata": {},
   "source": [
    "We can notice at the first glance that in 2003 the voting time distribution was quite different from the other years. Indeed, the voting times were much more spread out and shifted to the left. This is probably due to the fact that at the creation of election system, the rules were not yet well established so the behaviour of the voters was not very consistent. \n",
    "\n",
    "#### 2.3.3 Dealing with year 2003\n",
    "We will start by checking if the 2003 data represents a significant part of the data. "
   ]
  },
  {
   "cell_type": "code",
   "execution_count": null,
   "metadata": {},
   "outputs": [],
   "source": [
    "proportion_2003 = df[df['Year'] == 2003].shape[0] / df.shape[0]\n",
    "print(f'Proportion of 2003 data: {proportion_2003:.2%}')"
   ]
  },
  {
   "cell_type": "markdown",
   "metadata": {},
   "source": [
    "Knowing that the amount of data for 2003 represents only 0.1% of the total data, we can consider that these data are negligible and we can remove them from the dataset. "
   ]
  },
  {
   "cell_type": "code",
   "execution_count": null,
   "metadata": {},
   "outputs": [],
   "source": [
    "df = df[df['Year'] != 2003]\n",
    "#df.to_csv('wiki-RfA.csv')\n",
    "\n",
    "df_timeserie = df_timeserie[df_timeserie['Year'] != 2003]\n",
    "# Update the voting time of the df_timeserie dataframe\n",
    "voting_time = (df_timeserie.groupby('Target').Date.apply(lambda x: x - x.min()).dt.total_seconds()/3600).rename('Voting_time')\n",
    "df_timeserie = df_timeserie.drop(columns=['Voting_time']).join(voting_time.droplevel(0))\n",
    "\n",
    "df_plot = df_timeserie[df_timeserie.Voting_time != 0]"
   ]
  },
  {
   "cell_type": "markdown",
   "metadata": {},
   "source": [
    "#### 2.3.4 Time Interval between votes\n",
    "\n",
    "The bimodal distribution we get when plotting on a log scale (2.3.2) was unexpected, thus we can look at the disribution of time intervals between votes to find an explanation to this phenomenon."
   ]
  },
  {
   "cell_type": "markdown",
   "metadata": {},
   "source": [
    "Frist we try to seperate votes into rounds using a manually craft waiting time between to votes to decide cut between two rounds. \n",
    "\n",
    "///\n",
    "### A check\n",
    "We choose the value of 72 hours, in other words 3 days. \n",
    "///"
   ]
  },
  {
   "cell_type": "code",
   "execution_count": null,
   "metadata": {},
   "outputs": [],
   "source": [
    "# Separate the vote for a candidate by elections rounds\n",
    "votes_gap = df_timeserie.groupby('Target').Voting_time.apply(lambda x: x.sort_values().diff())\n",
    "votes_gap.describe()"
   ]
  },
  {
   "cell_type": "markdown",
   "metadata": {},
   "source": [
    "Plots histogram of \"voting gap\" - "
   ]
  },
  {
   "cell_type": "code",
   "execution_count": null,
   "metadata": {},
   "outputs": [],
   "source": [
    "fig, ax = plt.subplots(2,2, figsize=(15,10), tight_layout=True)\n",
    "\n",
    "log_shift = 0.01\n",
    "votes_gap_plot = votes_gap.dropna() + log_shift\n",
    "\n",
    "sns.histplot(data=votes_gap_plot, ax=ax[0,0], stat='probability', bins=100, log_scale=(True, False))\n",
    "ax[0,0].set_title('Histogram of voting gap on a log axis')\n",
    "ax[0,0].set_xlabel('Voting gap (hours)')\n",
    "ax[0,0].set_ylabel('Probability of votes')\n",
    "ax[0,0].tick_params(bottom=True, left=True)\n",
    "ax[0,0].set_xlim(0, np.max(votes_gap))\n",
    "ticks = np.power(10, np.arange(np.log10(log_shift), np.ceil(np.log10(np.max(votes_gap_plot))), 1))\n",
    "labels = [f'{tick:.0e}' for tick in ticks]\n",
    "labels[0] = '0'\n",
    "ax[0,0].set_xticks(ticks, labels=labels)\n",
    "\n",
    "# Violin plot of voting gap\n",
    "sns.violinplot(data=votes_gap_plot, ax=ax[0,1], orient='h', bw=0.2, cut=0, log_scale=(True, False), split=True, inner_kws=dict(box_width=10, whis_width=2, color=\"lightsteelblue\"))\n",
    "ax[0,1].set_title('Violin plot of voting gap')\n",
    "ax[0,1].set_xlabel('Voting gap (hours)')\n",
    "ax[0,1].set_ylabel('Density of votes')\n",
    "ax[0,1].tick_params(bottom=True, left=True)\n",
    "ax[0,1].set_xticks(ticks, labels=labels)\n",
    "\n",
    "sns.histplot(data=votes_gap, ax=ax[1,0], stat='probability', bins=100, binrange=(0,20))\n",
    "ax[1,0].set_title('Histogram of voting gap, close up on the small and most frequent values')\n",
    "ax[1,0].set_xlabel('Voting gap (hours)')\n",
    "ax[1,0].set_ylabel('Probability of votes')\n",
    "ax[1,0].set_xlim(0, 20)\n",
    "ax[1,0].tick_params(bottom=True, left=True)\n",
    "\n",
    "\n",
    "sns.histplot(data=votes_gap, ax=ax[1,1], stat='probability', bins=100, log_scale=(True, False))\n",
    "ax[1,1].set_title('Histogram of voting gap, close up on the extreme and rare values, logscale')\n",
    "ax[1,1].set_xlabel('Voting gap (hours)')\n",
    "ax[1,1].set_ylabel('Probability of votes')\n",
    "ax[1,1].set_xlim(20, np.max(votes_gap))\n",
    "ax[1,1].set_ylim(0, 0.01)\n",
    "ax[1,1].set_xticks([20, 50, 100, 200, 500, 1000, 2000, 5000, 10000, 20000, 50000], labels=['20', '50', '100', '200', '500', '1000', '2000', '5000', '10000', '20000', '50000']) \n",
    "ax[1,1].tick_params(bottom=True, left=True)\n",
    "\n",
    "plt.show()"
   ]
  },
  {
   "cell_type": "code",
   "execution_count": null,
   "metadata": {},
   "outputs": [],
   "source": [
    "print(f'Extract the voting gap corresponding to the 99% quantile: {votes_gap.quantile(0.99):.2f} hours')"
   ]
  },
  {
   "cell_type": "markdown",
   "metadata": {},
   "source": [
    "We can see that the distribution of the time interval between votes almost follows an exponential distribution (which is what we would expect for this type of data). However, we can see that there is an additional very small peak between 1000 and 20000 hours, which reveals the presence of multiple batches/aggregate of votes separated by a long period of time. \n",
    "\n",
    "We interpret this as different rounds of elections. Indeed, some target are not elected at the first try and they run for admin again after a certain period of time. We now want to separate the data into different rounds of elections for each target.\n",
    "\n",
    "#### 2.3.5 Separate data into rounds of elections\n"
   ]
  },
  {
   "cell_type": "code",
   "execution_count": null,
   "metadata": {},
   "outputs": [],
   "source": [
    "fig, ax = plt.subplots(figsize=(10,4))\n",
    "kde = sns.histplot(data=df_plot, x='Voting_time', kde=True, ax=ax, bins=100, stat='percent', log_scale=(True, False))\n",
    "ax.set_title('Histogram of voting time')\n",
    "ax.set_xlabel('Voting time (hours)')\n",
    "ax.set_ylabel('Percentage of votes')\n",
    "plt.show()\n",
    "\n",
    "# Close up the voting time to 100-500 hours\n",
    "fig, ax = plt.subplots(figsize=(10,4))\n",
    "sns.histplot(data=df_plot, x='Voting_time', ax=ax, bins=100, stat='count', log_scale=(False, False), binrange=(150, 750), hue='Year', palette='tab10', multiple='stack')\n",
    "ax.set_title('Histogram of voting time, zoomed in 100-500 hours and stacked by year')\n",
    "ax.set_xlabel('Voting time (hours)')\n",
    "ax.set_ylabel('Number of votes')\n",
    "ax.set_xlim(150, 750)\n",
    "plt.show()\n",
    "\n",
    "# Fin the local minima\n",
    "kde = kde.get_lines()[0].get_data()\n",
    "deriv_kde_sign = np.sign(np.diff(kde[1]))\n",
    "local_mins = kde[0][np.append((np.roll(deriv_kde_sign, 1) - deriv_kde_sign) != 0, False)]\n",
    "y_mins = kde[1][np.append((np.roll(deriv_kde_sign, 1) - deriv_kde_sign) != 0, False)]\n",
    "\n",
    "# only keep the minima with a y value < 0.1 and a x value is between 10 and 1e4\n",
    "round_threshold = local_mins[(y_mins < 0.1) & (local_mins > 10) & (local_mins < 1e3)][0]\n",
    "percent_at_threshold = y_mins[(y_mins < 0.1) & (local_mins > 10) & (local_mins < 1e3)][0]\n",
    "\n",
    "print(f'After this threshold in hours, we consider that the incoming votes are part of a new election: {round_threshold:.2f} hours')\n",
    "print(f'Percentage of votes happening at this threshold: {percent_at_threshold:.2}%')"
   ]
  },
  {
   "cell_type": "markdown",
   "metadata": {},
   "source": [
    "To separate the different rounds of elections we focus on the gap between the 2 peaks in the distribution of voting time. First, we can observe that there is a huge drop in the amount of votes at around 170h which is consistent with the information we found on the Wikipedia page about the election duration being approximately 7 days (noting that this period can be prolonged in some cases). \n",
    "\n",
    "To find the best threshold to separate the data, we extracted the kernel density estimation of the distribution of voting time and we computed its local minimum in the gap between the 2 peaks and the corresponding voting time. We found that the best threshold to separate the data is 391h. We can now separate the data into different rounds of elections for each target using this threshold."
   ]
  },
  {
   "cell_type": "code",
   "execution_count": null,
   "metadata": {},
   "outputs": [],
   "source": [
    "rounds = (df_timeserie.groupby('Target').apply(lambda x: hlp.compute_rounds(x, round_threshold))).rename('Round')\n",
    "df_timeserie = df_timeserie.join(rounds.droplevel(0))\n",
    "df_timeserie.sample(3)"
   ]
  },
  {
   "cell_type": "markdown",
   "metadata": {},
   "source": [
    "#### 2.3.6 Updating the voting time with respect to election rounds"
   ]
  },
  {
   "cell_type": "code",
   "execution_count": null,
   "metadata": {},
   "outputs": [],
   "source": [
    "# Use the round number to compute the voting time in each round (i.e. the time between the current vote and the first vote of the round)\n",
    "Voting_time_round = df_timeserie.groupby(['Target', 'Round']).Voting_time.apply(lambda x: x - x.min())\n",
    "# Replace the column Voting_time by the voting time in each round\n",
    "df_timeserie = df_timeserie.drop(columns='Voting_time').join(Voting_time_round.droplevel([0,1]))\n",
    "df_plot = df_timeserie[df_timeserie.Voting_time != 0]\n",
    "df_timeserie.sample(3)"
   ]
  },
  {
   "cell_type": "markdown",
   "metadata": {},
   "source": [
    "Ploting the histogram of voting time"
   ]
  },
  {
   "cell_type": "code",
   "execution_count": null,
   "metadata": {},
   "outputs": [],
   "source": [
    "fig, ax = plt.subplots(figsize=(10,4))\n",
    "kde = sns.histplot(data=df_plot, x='Voting_time', ax=ax, bins=100, stat='percent', log_scale=(True, False), hue='Year', palette='tab10', multiple='stack')\n",
    "ax.set_title('Histogram of voting time')\n",
    "ax.set_xlabel('Voting time in the round (hours)')\n",
    "ax.set_ylabel('Percentage of votes')\n",
    "plt.show()"
   ]
  },
  {
   "cell_type": "code",
   "execution_count": null,
   "metadata": {},
   "outputs": [],
   "source": [
    "#df_timeserie.to_csv('wiki-RfA_timeserie.csv')"
   ]
  },
  {
   "cell_type": "markdown",
   "metadata": {},
   "source": [
    "### 2.4 Votes evolution through time - explication nécessaire @Emma\n",
    "We now focus on the study of statistics from votes. We first compute the progressive mean of the votes (the votes themselves ?).\n",
    " "
   ]
  },
  {
   "cell_type": "code",
   "execution_count": null,
   "metadata": {},
   "outputs": [],
   "source": [
    "#saving previous work.\n",
    "df_vote_evolution = df_timeserie.copy()\n",
    "\n",
    "progressive_mean = df_vote_evolution.groupby(['Target', 'Round']).apply(lambda x: x.Vote.cumsum() / np.arange(1, len(x)+1)).rename('progressive_mean')\n",
    "\n",
    "# Replace the column Vote by the progressive mean\n",
    "df_vote_evolution = df_vote_evolution.join(progressive_mean.droplevel([0,1]))\n",
    "df_vote_evolution.sample(3)"
   ]
  },
  {
   "cell_type": "markdown",
   "metadata": {},
   "source": [
    "Convert the voting time into time deltas."
   ]
  },
  {
   "cell_type": "code",
   "execution_count": null,
   "metadata": {},
   "outputs": [],
   "source": [
    "df_vote_evolution.Voting_time = pd.to_timedelta(df_vote_evolution.Voting_time, unit='h')\n",
    "df_vote_evolution.sort_values('Voting_time', inplace=True)\n",
    "display(df_vote_evolution.sample(3))"
   ]
  },
  {
   "cell_type": "code",
   "execution_count": null,
   "metadata": {},
   "outputs": [],
   "source": [
    "rolling_avg = df_vote_evolution.groupby('Results').rolling('1h', on='Voting_time').progressive_mean.aggregate(['mean', 'std']).reset_index(level='Voting_time')\n",
    "rolling_avg.Voting_time = rolling_avg.Voting_time.dt.total_seconds()/3600\n",
    "display(rolling_avg.sample(3))"
   ]
  },
  {
   "cell_type": "markdown",
   "metadata": {},
   "source": [
    "Plot the evolution of the progressive mean of the votes in each round given rolling average."
   ]
  },
  {
   "cell_type": "code",
   "execution_count": null,
   "metadata": {},
   "outputs": [],
   "source": [
    "fig, ax = plt.subplots(figsize=(10,4))\n",
    "ax.plot(rolling_avg.loc[-1].Voting_time, rolling_avg.loc[-1]['mean'], label='Not elected')\n",
    "ax.fill_between(rolling_avg.loc[-1].Voting_time, rolling_avg.loc[-1]['mean']-rolling_avg.loc[-1]['std'], rolling_avg.loc[-1]['mean']+rolling_avg.loc[-1]['std'], alpha=0.4)\n",
    "ax.plot(rolling_avg.loc[1].Voting_time, rolling_avg.loc[1]['mean'], label='Elected')\n",
    "ax.fill_between(rolling_avg.loc[1].Voting_time, rolling_avg.loc[1]['mean']-rolling_avg.loc[1]['std'], rolling_avg.loc[1]['mean']+rolling_avg.loc[1]['std'], alpha=0.4)\n",
    "ax.set_title('Evolution of the progressive mean of the votes in each round')\n",
    "ax.set_xlabel('Time (hours)')\n",
    "ax.set_ylabel('Progressive mean of the votes')\n",
    "ax.set_xlim(0, 24*7)\n",
    "ax.set_ylim(-1, 1.3)\n",
    "ax.legend(loc='lower right')\n",
    "plt.show()  "
   ]
  },
  {
   "cell_type": "code",
   "execution_count": null,
   "metadata": {},
   "outputs": [],
   "source": [
    "df_vote_evolution.groupby('Results')[['progressive_mean']].agg(['mean', 'std'])"
   ]
  },
  {
   "cell_type": "markdown",
   "metadata": {},
   "source": [
    "# 3. Dive into on the Sources\n",
    "### 3.1 Distribution of the source voting"
   ]
  },
  {
   "cell_type": "code",
   "execution_count": null,
   "metadata": {},
   "outputs": [],
   "source": [
    "df_source = df.copy(deep=True)\n",
    "#Artifact from the merge of code but for this part we need to interpret the Vote as integer\n",
    "df_source.Vote = df_source.Vote.astype(int)"
   ]
  },
  {
   "cell_type": "markdown",
   "metadata": {},
   "source": [
    "First we get a glance at the proportion of distinct source by year in comparison with the total number of sources overall."
   ]
  },
  {
   "cell_type": "code",
   "execution_count": null,
   "metadata": {},
   "outputs": [],
   "source": [
    "# Calculate the distribution of the source over the year\n",
    "source_percentage = df_source.groupby('Year')['Source'].nunique() / len(df_source.Source.unique())*100\n",
    "\n",
    "# Plotting\n",
    "source_percentage.plot(kind='bar', stacked=True, figsize=(10, 6))\n",
    "plt.title('Percentage of unique Source Voting Each Year')\n",
    "plt.xlabel('Year')\n",
    "plt.ylabel('Percentage')\n",
    "plt.show()"
   ]
  },
  {
   "cell_type": "markdown",
   "metadata": {},
   "source": [
    "For each year we consider we take the average of the percentage of unique source that vote for a target. It gives us an indicator of the proportion of source participating in average. "
   ]
  },
  {
   "cell_type": "code",
   "execution_count": null,
   "metadata": {},
   "outputs": [],
   "source": [
    "d={}\n",
    "year_index = range(2004, 2014)\n",
    "for i in year_index:\n",
    "  df_sub = hlp.select_year(df_source, i)\n",
    "  nb_source =  len(df_sub.Source.unique())\n",
    "  percent_by_target = df_sub.groupby('Target')['Source'].nunique()/nb_source*100\n",
    "  d.update({i:percent_by_target.mean()})\n",
    "\n",
    "election_source_percentage = pd.Series(data=d, index=year_index)\n",
    "\n",
    "election_source_percentage.plot(kind='bar', stacked=True, figsize=(10, 6))\n",
    "plt.title('Average percentage of voting source for each election by year')\n",
    "plt.xlabel('Year')\n",
    "plt.ylabel('Percentage')\n",
    "plt.show()"
   ]
  },
  {
   "cell_type": "markdown",
   "metadata": {},
   "source": [
    "To have a \"baseline\" for the distribution of all votes we plot the count of votes for each year."
   ]
  },
  {
   "cell_type": "code",
   "execution_count": null,
   "metadata": {},
   "outputs": [],
   "source": [
    "# Create a count plot\n",
    "plt.figure(figsize=(10, 6))\n",
    "sns.countplot(x='Year', hue='Vote', data=df_source)\n",
    "plt.title('Distribution of Votes by Year')\n",
    "plt.xlabel('Year')\n",
    "plt.ylabel('Count')\n",
    "plt.legend(title='Vote', loc='upper right', labels=['-1', '0', '1'])\n",
    "plt.show()"
   ]
  },
  {
   "cell_type": "markdown",
   "metadata": {},
   "source": [
    "We can see that the trends of the proportion of different sources voting for at least one election by year and the average proportion of different soucres voting for specific vote is inversed.\n",
    "\n",
    "On the other hand we can see that the proportion of different sources voting for at least one election is follwing the number of votes which seems fair. "
   ]
  },
  {
   "cell_type": "markdown",
   "metadata": {},
   "source": [
    "# 4. Community Extraction of Sources based on similar vote for Targets\n",
    "We will use Louvain and Leiden algorithm, the second one beeing an improvement of the first: https://www.nature.com/articles/s41598-019-41695-z.\n",
    "\n",
    "More on the implementation here: https://readthedocs.org/projects/leidenalg/downloads/pdf/latest/\n",
    "\n",
    "\n",
    "In the first two subparts below we consider the Graph composed of:\n",
    " - Sources and Targets as Vertices\n",
    " - Vote of the given type as (undirected) Edges - for each algorithm we consider each type of vote (-1,0,1) in seperated Graph\n",
    "\n",
    "Also please note that in this part we did not discareded the 2003 year yet. If in the following of this project, it relevant to do so we will do it."
   ]
  },
  {
   "cell_type": "code",
   "execution_count": null,
   "metadata": {},
   "outputs": [],
   "source": [
    "import igraph as ig \n",
    "import leidenalg as la"
   ]
  },
  {
   "cell_type": "markdown",
   "metadata": {},
   "source": [
    "### 4.1 Louvain Algorithm\n",
    "Communities creation."
   ]
  },
  {
   "cell_type": "code",
   "execution_count": null,
   "metadata": {},
   "outputs": [],
   "source": [
    "#Create a new DataFrame to hold the community data\n",
    "columns = ['Year', 'Vote', 'Total nbr of community', 'Size of each community', 'Community members']\n",
    "df_community=pd.DataFrame(columns=columns)\n",
    "\n",
    "wiki_RfA_df = pd.read_csv('wiki-RfA.csv', index_col=0, parse_dates=['Date'])\n",
    "\n",
    "#Extracts the community of a given year and vote\n",
    "years=wiki_RfA_df['Year'].unique()\n",
    "for n, year in enumerate(years):\n",
    "    G_community_pos = hlp.extract_community_louvain(wiki_RfA_df, year,1)\n",
    "    size_communities_pos = hlp.compute_com_size(G_community_pos)\n",
    "    df_community.loc[3*n] = [year, 1, len(size_communities_pos), size_communities_pos, G_community_pos]\n",
    "    \n",
    "    G_community_neg = hlp.extract_community_louvain(wiki_RfA_df, year,-1)\n",
    "    size_communities_neg = hlp.compute_com_size(G_community_neg)\n",
    "    df_community.loc[3*n+1] = [year, -1, len(size_communities_neg), size_communities_neg, G_community_neg]\n",
    "    \n",
    "    G_community_neu = hlp.extract_community_louvain(wiki_RfA_df, year,0)\n",
    "    size_communities_neu = hlp.compute_com_size(G_community_neu)\n",
    "    df_community.loc[3*n+2] = [year, 0, len(size_communities_neu), size_communities_neu, G_community_neu]\n",
    "\n",
    "df_community.sample(3)\n"
   ]
  },
  {
   "cell_type": "markdown",
   "metadata": {},
   "source": [
    "Plots the number of community per year and type of vote."
   ]
  },
  {
   "cell_type": "code",
   "execution_count": null,
   "metadata": {},
   "outputs": [],
   "source": [
    "sns.barplot(data=df_community[['Year', 'Vote', 'Total nbr of community']], x='Year', y='Total nbr of community', hue='Vote')\n",
    "\n",
    "sns.set(rc={'figure.figsize':(10, 6)})\n",
    "plt.title('Number of community per year and type of vote')\n",
    "plt.xlabel('Year')\n",
    "plt.ylabel('Number of community')\n",
    "plt.show()"
   ]
  },
  {
   "cell_type": "markdown",
   "metadata": {},
   "source": [
    "### 4.2 Leiden Algorithm\n",
    "Communities creation"
   ]
  },
  {
   "cell_type": "code",
   "execution_count": null,
   "metadata": {},
   "outputs": [],
   "source": [
    "columns_ = ['Year', 'Vote', 'Total nbr of community', 'Size of each community']\n",
    "df_community_leiden=pd.DataFrame(columns=columns_)\n",
    "\n",
    "years=wiki_RfA_df['Year'].unique()\n",
    "for n, year in enumerate(years):\n",
    "    partition_pos = hlp.extract_community_leiden(wiki_RfA_df, year,1)\n",
    "    features_pos = hlp.compute_partition_features(partition_pos)\n",
    "    df_community_leiden.loc[3*n] = [year, 1, features_pos[0], features_pos[1]]\n",
    "\n",
    "    partition_neg = hlp.extract_community_leiden(wiki_RfA_df, year,-1)\n",
    "    features_neg = hlp.compute_partition_features(partition_neg)\n",
    "    df_community_leiden.loc[3*n+1] = [year, -1, features_neg[0], features_neg[1]]\n",
    "\n",
    "    partition_neu = hlp.extract_community_leiden(wiki_RfA_df, year,0)\n",
    "    features_neu = hlp.compute_partition_features(partition_neu)\n",
    "    df_community_leiden.loc[3*n+2]=[year, 0, features_neu[0], features_neu[1]]\n",
    "\n",
    "df_community_leiden.sample(3)"
   ]
  },
  {
   "cell_type": "markdown",
   "metadata": {},
   "source": [
    "Plots the number of community per year and type of vote."
   ]
  },
  {
   "cell_type": "code",
   "execution_count": null,
   "metadata": {},
   "outputs": [],
   "source": [
    "sns.barplot(data=df_community_leiden[['Year', 'Vote', 'Total nbr of community']], x='Year', y='Total nbr of community', hue='Vote')\n",
    "\n",
    "plt.title('Number of community per year and type of vote')\n",
    "plt.xlabel('Year')\n",
    "plt.ylabel('Number of community')\n",
    "plt.show()"
   ]
  },
  {
   "cell_type": "markdown",
   "metadata": {},
   "source": [
    "### 4.3 Leiden Algorithm with Directed Graph\n"
   ]
  },
  {
   "cell_type": "markdown",
   "metadata": {},
   "source": [
    "# 5. Comments Analysis\n",
    "### 5.1 Information Extractions from Comments"
   ]
  },
  {
   "cell_type": "markdown",
   "metadata": {},
   "source": [
    "The mwparserfromhell librabry will be used for the parsing of WikiText from the comments."
   ]
  },
  {
   "cell_type": "code",
   "execution_count": 3,
   "metadata": {},
   "outputs": [],
   "source": [
    "import mwparserfromhell\n",
    "from sklearn.feature_extraction.text import CountVectorizer"
   ]
  },
  {
   "cell_type": "markdown",
   "metadata": {},
   "source": [
    "As in the previous part we will start over with less processed dataset."
   ]
  },
  {
   "cell_type": "code",
   "execution_count": null,
   "metadata": {},
   "outputs": [],
   "source": [
    "df_comment = pd.read_csv('wiki-RfA.csv', index_col=0, parse_dates=['Date'])\n",
    "\n",
    "#Parse the comments to a new column\n",
    "df_comment['Comment'] = df_comment['Comment'].apply(lambda x: [] if pd.isna(x) else x)\n",
    "df_comment[\"Parsed_Comment\"] = df_comment.Comment.apply(lambda x: mwparserfromhell.parse(x).strip_code())\n",
    "\n",
    "#Initialize a dataframe containing only relevant info for futur comment analysis\n",
    "stat_df = pd.DataFrame(columns = ['Source','Vote', 'Comment', 'Parsed_Comment'])\n",
    "stat_df['Vote']=df_comment['Vote']\n",
    "stat_df['Source']=df_comment['Source']\n",
    "stat_df['Comment'] = df_comment['Comment']\n",
    "stat_df['Parsed_Comment']=df_comment['Parsed_Comment']"
   ]
  },
  {
   "cell_type": "markdown",
   "metadata": {},
   "source": [
    "Count the number of word occurrences without taking into account \"stopwords\" (the, and, me...) from the comment language: english.\n"
   ]
  },
  {
   "cell_type": "code",
   "execution_count": null,
   "metadata": {},
   "outputs": [],
   "source": [
    "vectorizer = CountVectorizer(stop_words='english')\n",
    "stat_df['Vectorized_Comment'] = stat_df['Parsed_Comment'].apply(lambda x: vectorizer.build_analyzer()(x)) \n",
    "stat_df['Vector_Size'] = stat_df['Vectorized_Comment'].apply(lambda x: len(x))\n",
    "stat_df.sample(3)"
   ]
  },
  {
   "cell_type": "markdown",
   "metadata": {},
   "source": [
    "### 5.2 Some Statistics about Comments"
   ]
  },
  {
   "cell_type": "code",
   "execution_count": null,
   "metadata": {},
   "outputs": [],
   "source": [
    "print(f'The minimum length of the comment is: {np.min(stat_df[\"Vector_Size\"]):.2f}')\n",
    "print(f'The maximum length of the comment is: {np.max(stat_df[\"Vector_Size\"]):.2f}')\n",
    "\n",
    "proportion_no_comment=np.sum(stat_df['Vector_Size']==0)/len(stat_df['Vector_Size'])*100\n",
    "print(f'The percentage of vote without comment is: {proportion_no_comment:.2f}%')\n",
    "proportion_one_word=np.sum(stat_df['Vector_Size']==1)/len(stat_df['Vector_Size'])*100\n",
    "print(f'The percentage of comment with one word is: {proportion_one_word:.2f}%')\n",
    "proportion_two_word=np.sum(stat_df['Vector_Size']==2)/len(stat_df['Vector_Size'])*100\n",
    "print(f'The percentage of comment with 2 words is: {proportion_two_word:.2f}%')"
   ]
  },
  {
   "cell_type": "markdown",
   "metadata": {},
   "source": [
    "#### 5.2.1 Vote without comments"
   ]
  },
  {
   "cell_type": "code",
   "execution_count": null,
   "metadata": {},
   "outputs": [],
   "source": [
    "zero_word = stat_df[stat_df['Vector_Size']==0] #the vectorization removes almost all stop words/non significant words\n",
    "zero_word.sample(3)"
   ]
  },
  {
   "cell_type": "markdown",
   "metadata": {},
   "source": [
    "We want to see if there is a specific tendency in the vote (support, opposition or neutral). We could consider that votes without comments are obvious votes subject to less controversy and therefore we could expect to have a large proportion of positive votes."
   ]
  },
  {
   "cell_type": "code",
   "execution_count": null,
   "metadata": {},
   "outputs": [],
   "source": [
    "dist_vote_no_comment= zero_word['Vote'].value_counts(normalize=True)*100\n",
    "sns.barplot(x=dist_vote_no_comment.index, y=dist_vote_no_comment.values)\n",
    "plt.title('Distribution (percentage) of vote for vote without comment')\n",
    "plt.show()"
   ]
  },
  {
   "cell_type": "markdown",
   "metadata": {},
   "source": [
    "Indeed we obtain a large majority of positive vote."
   ]
  },
  {
   "cell_type": "markdown",
   "metadata": {},
   "source": [
    "#### 5.2.2 Vote with one comment\n",
    "We conduct the same analysis as for no-comment vote."
   ]
  },
  {
   "cell_type": "code",
   "execution_count": null,
   "metadata": {},
   "outputs": [],
   "source": [
    "one_word = stat_df[stat_df['Vector_Size']==1]\n",
    "\n",
    "print(f\"Proportion of comment of one word {len(one_word['Vector_Size'])/len(stat_df['Vector_Size'])*100:.2f}%\")"
   ]
  },
  {
   "cell_type": "markdown",
   "metadata": {},
   "source": [
    "As for vote without any comment, we could expect that votes with one word comment are straightforward votes and then we can expect a similar trend to votes without comments"
   ]
  },
  {
   "cell_type": "code",
   "execution_count": null,
   "metadata": {},
   "outputs": [],
   "source": [
    "dist_vote_one_word_comment= one_word['Vote'].value_counts(normalize=True)*100\n",
    "sns.barplot(x=dist_vote_one_word_comment.index, y=dist_vote_one_word_comment.values)\n",
    "plt.title('Distribution (percentage) of vote for vote with one word comment')\n",
    "plt.show()"
   ]
  },
  {
   "cell_type": "code",
   "execution_count": null,
   "metadata": {},
   "outputs": [],
   "source": [
    "df_one_word = pd.DataFrame(np.concatenate(one_word['Vectorized_Comment'].values), columns=['word']) #handle the list of string type for each row\n",
    "percentage=df_one_word['word'].value_counts(normalize=True)*100\n",
    "print('Percentage of the 15 first one word comment:')\n",
    "percentage[:15]"
   ]
  },
  {
   "cell_type": "code",
   "execution_count": null,
   "metadata": {},
   "outputs": [],
   "source": [
    "plt.figure(figsize=(12, 6))\n",
    "sns.barplot(x=percentage[:15].index, y=percentage[:15].values)\n",
    "plt.xticks(rotation=45)\n",
    "plt.yscale('log')\n",
    "plt.xlabel('Word occurrence')\n",
    "plt.ylabel('Percentage (%)')\n",
    "plt.title('Percentage of word occurrence of the 15 first words (in 1 word comment)')\n",
    "plt.show()"
   ]
  },
  {
   "cell_type": "markdown",
   "metadata": {},
   "source": [
    "#### 5.2.3 Vote with two comments\n",
    "We conduct the same analysis as for no-comment and one comment votes."
   ]
  },
  {
   "cell_type": "code",
   "execution_count": null,
   "metadata": {},
   "outputs": [],
   "source": [
    "two_words = stat_df[stat_df['Vector_Size']==2]"
   ]
  },
  {
   "cell_type": "markdown",
   "metadata": {},
   "source": [
    "First we look at word independtly, it means that for each comment we consider that the 2 words are not related"
   ]
  },
  {
   "cell_type": "code",
   "execution_count": null,
   "metadata": {},
   "outputs": [],
   "source": [
    "#Look at words individually\n",
    "df_two_words = pd.DataFrame(np.concatenate(two_words['Vectorized_Comment'].values), columns=['word']) \n",
    "percentage_2words_ind=df_two_words['word'].value_counts(normalize=True)*100\n",
    "print('Percentage of the 15 first words when looking at 2 word comment and considering each word independetly')\n",
    "percentage_2words_ind[:15]"
   ]
  },
  {
   "cell_type": "code",
   "execution_count": null,
   "metadata": {},
   "outputs": [],
   "source": [
    "plt.figure(figsize=(12, 6))\n",
    "sns.barplot(x=percentage_2words_ind[:15].index, y=percentage_2words_ind[:15].values)\n",
    "plt.xticks(rotation=45)\n",
    "#plt.yscale('log')\n",
    "plt.xlabel('Word occurrence')\n",
    "plt.ylabel('Percentage')\n",
    "plt.title('Percentage of occurrence of the 15 first words (in 2 word comment)')\n",
    "plt.show()"
   ]
  },
  {
   "cell_type": "markdown",
   "metadata": {},
   "source": [
    "Since taking word independently does not allow to take into account the context, we look at comment with the 2 words together. "
   ]
  },
  {
   "cell_type": "code",
   "execution_count": null,
   "metadata": {},
   "outputs": [],
   "source": [
    "#Look at pair of word\n",
    "#order word to be able to compare them\n",
    "df_paired_2words = pd.DataFrame(two_words['Vectorized_Comment'].values, columns=['word'])\n",
    "df_paired_2words['word'] = df_paired_2words['word'].apply(lambda x: sorted(x))\n",
    "\n",
    "paired_2words_percentage=df_paired_2words['word'].value_counts(normalize=True)*100\n",
    "print('Percentage of the 15 first pair of words when looking at 2 word comment')\n",
    "paired_2words_percentage[:15]"
   ]
  },
  {
   "cell_type": "code",
   "execution_count": null,
   "metadata": {},
   "outputs": [],
   "source": [
    "#convert values of x axis with the correct type for the plot\n",
    "paired_strings = [' + '.join(pair) for pair in paired_2words_percentage.index]\n",
    "\n",
    "plt.figure(figsize=(12, 6))\n",
    "sns.barplot(x=paired_strings[:15], y=paired_2words_percentage[:15].values)\n",
    "plt.xticks(rotation=70)\n",
    "#plt.yscale('log')\n",
    "plt.xlabel('Word occurrence')\n",
    "plt.ylabel('Percentage')\n",
    "plt.title('Percentage of occurrence of the 15 first pair of words (in 2 word comment)')\n",
    "plt.show()"
   ]
  },
  {
   "cell_type": "markdown",
   "metadata": {},
   "source": [
    "Generally speaking, we can see that the word \"Support\" is dominant in all comments of size 1 or 2. The word \"oppose\" appears with a high proportion for comments of one word and 2 words treated independently, whereas this is not the case for the treatment of pairs of 2 words. We would expect to see the same pattern when all the words in the comments are taken into account."
   ]
  },
  {
   "cell_type": "markdown",
   "metadata": {},
   "source": [
    "#### 5.3.4 Most frequently used words (all comments)"
   ]
  },
  {
   "cell_type": "markdown",
   "metadata": {},
   "source": [
    "Creates word array for all small dataframe"
   ]
  },
  {
   "cell_type": "code",
   "execution_count": null,
   "metadata": {},
   "outputs": [],
   "source": [
    "#Split the dataframe to avoid memory problem (may not be necessary)\n",
    "list_of_dataframes = np.array_split(stat_df, 100)\n",
    "\n",
    "word_array=[]\n",
    "tot_nbr_words=0\n",
    "for n in range(len(list_of_dataframes)):\n",
    "    df_comment=pd.DataFrame(np.concatenate(list_of_dataframes[n]['Vectorized_Comment'].values), columns=['word'])\n",
    "    word_array.append(df_comment)\n",
    "    tot_nbr_words += len(df_comment['word'])"
   ]
  },
  {
   "cell_type": "markdown",
   "metadata": {},
   "source": [
    "Count the number of word for each occurence"
   ]
  },
  {
   "cell_type": "code",
   "execution_count": null,
   "metadata": {},
   "outputs": [],
   "source": [
    "def compute_sum_word(df):\n",
    "    return df['word'].value_counts()\n",
    "count = list(map(compute_sum_word, word_array))"
   ]
  },
  {
   "cell_type": "markdown",
   "metadata": {},
   "source": [
    "Merge result"
   ]
  },
  {
   "cell_type": "code",
   "execution_count": null,
   "metadata": {},
   "outputs": [],
   "source": [
    "#concatenate all word-occurrence for all array\n",
    "all_words_df = pd.concat(count, axis=1).T\n",
    "#compute the percentage of occurrence for all words present in the comment\n",
    "percentage_word = all_words_df.sum(axis=0)/tot_nbr_words*100\n",
    "#order for the plot\n",
    "ordered_percentage_word= percentage_word.sort_values(ascending=False)"
   ]
  },
  {
   "cell_type": "markdown",
   "metadata": {},
   "source": [
    "Plots results"
   ]
  },
  {
   "cell_type": "code",
   "execution_count": null,
   "metadata": {},
   "outputs": [],
   "source": [
    "plt.figure(figsize=(15, 6))\n",
    "sns.barplot(x=ordered_percentage_word[:50].index, y=ordered_percentage_word[:50].values)\n",
    "plt.xticks(rotation=70)\n",
    "plt.xlabel('Word occurrence')\n",
    "plt.ylabel('Percentage')\n",
    "plt.title('Percentage of occurrence of the 50 first words in all comments')\n",
    "plt.show()"
   ]
  },
  {
   "cell_type": "markdown",
   "metadata": {},
   "source": [
    "As expected we have the words \"support\" and \"oppose\" as the most dominant word in all comments."
   ]
  },
  {
   "cell_type": "markdown",
   "metadata": {},
   "source": [
    "#### 5.3.5 Plots the result distribution"
   ]
  },
  {
   "cell_type": "code",
   "execution_count": null,
   "metadata": {},
   "outputs": [],
   "source": [
    "sns.histplot(stat_df['Vector_Size'],binwidth=1, kde=False)  \n",
    "plt.title('Comment lengths distribution')\n",
    "plt.xlabel('Number of words per comment')\n",
    "plt.ylabel('Number of comment')\n",
    "plt.yscale('log')\n",
    "plt.show()"
   ]
  },
  {
   "cell_type": "code",
   "execution_count": null,
   "metadata": {},
   "outputs": [],
   "source": [
    "sns.histplot(data=stat_df, x='Vector_Size', kde=True, binwidth=1, stat='percent') \n",
    "plt.title('Percentage of word occurrences as a function of comment size (bin of 1 word)')\n",
    "plt.show()"
   ]
  },
  {
   "cell_type": "code",
   "execution_count": null,
   "metadata": {},
   "outputs": [],
   "source": [
    "sns.histplot(data=stat_df, x='Vector_Size', kde=True, binwidth=10, stat='percent') #j'ai pris arbitrairement 10 mots\n",
    "plt.title('Percentage of word occurrences as a function of comment size (bin of 10 words)')\n",
    "plt.show()"
   ]
  },
  {
   "cell_type": "markdown",
   "metadata": {},
   "source": [
    "From here we call our best friend - the log - to save us, in order to see something."
   ]
  },
  {
   "cell_type": "code",
   "execution_count": null,
   "metadata": {},
   "outputs": [],
   "source": [
    "log_shift = 0.1\n",
    "vector_size_plot = stat_df.Vector_Size + log_shift\n",
    "\n",
    "fig, ax = plt.subplots(figsize=(15,10))\n",
    "sns.histplot(data=vector_size_plot, kde=True, stat='percent', log_scale=(True, False), bins=100, ax=ax) #j'ai pris 10 arbitrairement, à changer au besoin\n",
    "ax.set_title('Comment length distribution (percentage)')\n",
    "ax.set_xlabel('Number of word per comment')\n",
    "ax.set_ylabel('Percentage of comment')\n",
    "ax.set_xscale('log')\n",
    "ticks = np.power(10, np.arange(np.log10(log_shift), np.ceil(np.log10(np.max(vector_size_plot))), 0.5))\n",
    "labels = [f'{tick:.0e}' for tick in ticks]\n",
    "labels[0] = '0'\n",
    "labels[1] = ''\n",
    "ax.set_xticks(ticks, labels=labels)\n",
    "plt.show()"
   ]
  },
  {
   "cell_type": "markdown",
   "metadata": {},
   "source": [
    "From these plots we can see that most comments have less than 30 words."
   ]
  },
  {
   "cell_type": "markdown",
   "metadata": {},
   "source": [
    "# 6. Extracting more Information about Comments"
   ]
  },
  {
   "cell_type": "markdown",
   "metadata": {},
   "source": [
    "As in the previous part we will start over with less processed dataset. Moreover here we consider similarities Target-wise but we could also do the following analysis election-wise. "
   ]
  },
  {
   "cell_type": "code",
   "execution_count": 4,
   "metadata": {},
   "outputs": [
    {
     "data": {
      "text/html": [
       "<div>\n",
       "<style scoped>\n",
       "    .dataframe tbody tr th:only-of-type {\n",
       "        vertical-align: middle;\n",
       "    }\n",
       "\n",
       "    .dataframe tbody tr th {\n",
       "        vertical-align: top;\n",
       "    }\n",
       "\n",
       "    .dataframe thead th {\n",
       "        text-align: right;\n",
       "    }\n",
       "</style>\n",
       "<table border=\"1\" class=\"dataframe\">\n",
       "  <thead>\n",
       "    <tr style=\"text-align: right;\">\n",
       "      <th></th>\n",
       "      <th>Source</th>\n",
       "      <th>Target</th>\n",
       "      <th>Vote</th>\n",
       "      <th>Results</th>\n",
       "      <th>Year</th>\n",
       "      <th>Date</th>\n",
       "      <th>Comment</th>\n",
       "      <th>Parsed_Comment</th>\n",
       "    </tr>\n",
       "  </thead>\n",
       "  <tbody>\n",
       "    <tr>\n",
       "      <th>809</th>\n",
       "      <td>IRWolfie-</td>\n",
       "      <td>Legoktm</td>\n",
       "      <td>1</td>\n",
       "      <td>1</td>\n",
       "      <td>2013.0</td>\n",
       "      <td>2013-05-05 08:58:00</td>\n",
       "      <td>'''Support''' I was concerned with the opposes...</td>\n",
       "      <td>Support I was concerned with the opposes menti...</td>\n",
       "    </tr>\n",
       "    <tr>\n",
       "      <th>197408</th>\n",
       "      <td>Dbachmann</td>\n",
       "      <td>Nathanlarson32767</td>\n",
       "      <td>0</td>\n",
       "      <td>-1</td>\n",
       "      <td>2004.0</td>\n",
       "      <td>2004-12-27 11:40:00</td>\n",
       "      <td>agree that the account is too young for a self...</td>\n",
       "      <td>agree that the account is too young for a self...</td>\n",
       "    </tr>\n",
       "    <tr>\n",
       "      <th>56732</th>\n",
       "      <td>Aua</td>\n",
       "      <td>Cirt</td>\n",
       "      <td>1</td>\n",
       "      <td>1</td>\n",
       "      <td>2008.0</td>\n",
       "      <td>2008-09-09 14:01:00</td>\n",
       "      <td>'''Support'''- Sure thing! Overdue, though. :)...</td>\n",
       "      <td>Support- Sure thing! Overdue, though. :) Cheer...</td>\n",
       "    </tr>\n",
       "  </tbody>\n",
       "</table>\n",
       "</div>"
      ],
      "text/plain": [
       "           Source             Target  Vote  Results    Year  \\\n",
       "809     IRWolfie-            Legoktm     1        1  2013.0   \n",
       "197408  Dbachmann  Nathanlarson32767     0       -1  2004.0   \n",
       "56732         Aua               Cirt     1        1  2008.0   \n",
       "\n",
       "                      Date                                            Comment  \\\n",
       "809    2013-05-05 08:58:00  '''Support''' I was concerned with the opposes...   \n",
       "197408 2004-12-27 11:40:00  agree that the account is too young for a self...   \n",
       "56732  2008-09-09 14:01:00  '''Support'''- Sure thing! Overdue, though. :)...   \n",
       "\n",
       "                                           Parsed_Comment  \n",
       "809     Support I was concerned with the opposes menti...  \n",
       "197408  agree that the account is too young for a self...  \n",
       "56732   Support- Sure thing! Overdue, though. :) Cheer...  "
      ]
     },
     "execution_count": 4,
     "metadata": {},
     "output_type": "execute_result"
    }
   ],
   "source": [
    "df_cosine_similarity = pd.read_csv('wiki-RfA.csv', index_col=0, parse_dates=['Date'])\n",
    "\n",
    "#Parse the comments to a new column\n",
    "df_cosine_similarity['Comment'] = df_cosine_similarity['Comment'].apply(lambda x: [] if pd.isna(x) else x)\n",
    "df_cosine_similarity[\"Parsed_Comment\"] = df_cosine_similarity.Comment.apply(lambda x: mwparserfromhell.parse(x).strip_code())\n",
    "\n",
    "df_cosine_similarity.sample(3)"
   ]
  },
  {
   "cell_type": "markdown",
   "metadata": {},
   "source": [
    "### 6.1 Cosinus Similarity"
   ]
  },
  {
   "cell_type": "code",
   "execution_count": 5,
   "metadata": {},
   "outputs": [],
   "source": [
    "from sklearn.metrics.pairwise import cosine_similarity"
   ]
  },
  {
   "cell_type": "markdown",
   "metadata": {},
   "source": [
    "#### 6.1.1 Extracts consine similarities\n",
    "Groups by Target the DF, please note that we compute similarity between comments that are targetted to the same Target for performance reason and relevance too. But we computed the TF-IDF vectorization on the whole comment lists. "
   ]
  },
  {
   "cell_type": "code",
   "execution_count": 6,
   "metadata": {},
   "outputs": [],
   "source": [
    "#Group by Target\n",
    "grouped_by_target = df_cosine_similarity.groupby('Target').apply(lambda x: list((enumerate(zip(x['Source'], x['Parsed_Comment'])))))\n",
    "grouped_by_target = grouped_by_target.apply(lambda x: [(item[1][0], item[0], item[1][1]) for item in x]).reset_index()\n",
    "grouped_by_target = grouped_by_target.rename(columns={0:'Text'})\n",
    "\n",
    "#Build UID for all pairs of (SRC, Comment)\n",
    "global_index = 0\n",
    "for df_index, row in grouped_by_target.iterrows():\n",
    "    length_of_current_list = len(row.Text)\n",
    "    mrange = range(global_index, global_index+length_of_current_list)\n",
    "    global_index += length_of_current_list\n",
    "    new_list = [(item[0], idx, item[2]) for item, idx in zip(row.Text, mrange)]\n",
    "    grouped_by_target.at[df_index, 'Text'] = new_list\n",
    "\n",
    "#Format to have dictionary to be sure to access things in the right order\n",
    "grouped_by_target.Text = grouped_by_target.Text.apply(lambda x: {(item[0], item[1]):item[2] for item in x})\n",
    "\n",
    "#Extracting and flattening of the comments with UID \n",
    "comments_list = [row.Text for _, row in  grouped_by_target.iterrows()]\n",
    "comments_dict = {}\n",
    "for d in comments_list:\n",
    "    comments_dict.update(d)\n",
    "\n",
    "#Compute the tfidf coefficient building the vectors\n",
    "tfidf_m_sparse = hlp.tf_idf_matrix(comments_dict)\n",
    "\n",
    "#Reformat the output to be normaly indexable (no need to optimize with sparse matrix)\n",
    "tfidf_m =  tfidf_m_sparse.todense()\n",
    "\n",
    "#Match the tfidf vectors to corresponding vectors\n",
    "grouped_by_target['tfidf_matrix'] = grouped_by_target.Text.apply(lambda x: tfidf_m[hlp.get_idx_lower_bound(x.keys()):hlp.get_idx_upper_bound(x.keys())+1])\n",
    "\n",
    "#Compute the cosinus similarity\n",
    "new_rows = []\n",
    "for index_df, row in grouped_by_target.iterrows():\n",
    "    target_tfidf_dense_matrix = np.asarray(row.tfidf_matrix)\n",
    "    target_cos_sim = cosine_similarity(target_tfidf_dense_matrix, target_tfidf_dense_matrix)\n",
    "    new_rows.append(target_cos_sim)\n",
    "grouped_by_target[\"cosine_similarity\"] = new_rows"
   ]
  },
  {
   "cell_type": "markdown",
   "metadata": {},
   "source": [
    "#### 6.1.2 Get some basic statistics on Cosine Similarities"
   ]
  },
  {
   "cell_type": "markdown",
   "metadata": {},
   "source": [
    "The cosine similarities are stored in one matrix for each target. This matrix is symmetrical and the digonal values are 1 - since a comment is fully similar to itself. So I transform this matrix into dictionnary with keys based on Unique Identifiers as define above."
   ]
  },
  {
   "cell_type": "code",
   "execution_count": 7,
   "metadata": {},
   "outputs": [],
   "source": [
    "grouped_by_target['cosine_similarity_by_paires'] = grouped_by_target.cosine_similarity.apply(hlp.generate_cossim_pairs)"
   ]
  },
  {
   "cell_type": "markdown",
   "metadata": {},
   "source": [
    "Get the whole collection of cosine similarity values from dictionnaries."
   ]
  },
  {
   "cell_type": "code",
   "execution_count": 9,
   "metadata": {},
   "outputs": [
    {
     "name": "stdout",
     "output_type": "stream",
     "text": [
      "Mean: 0.04409480773994\n",
      "Std: 0.1023223574767852\n",
      "Median: 0.011119575994196301\n"
     ]
    }
   ],
   "source": [
    "collection_of_values = [value for subdic in grouped_by_target.cosine_similarity_by_paires for value in subdic.values()]\n",
    "mean_cov = np.mean(collection_of_values)\n",
    "std_cov = np.std(collection_of_values)\n",
    "median_cov = np.median(collection_of_values)\n",
    "top_5 = np.percentile(collection_of_values, 95)\n",
    "top_10 = np.percentile(collection_of_values, 90)\n",
    "top_15 = np.percentile(collection_of_values, 85)\n",
    "top_20 = np.percentile(collection_of_values, 80)\n",
    "top_25 = np.percentile(collection_of_values, 75)\n",
    "top_1 = np.percentile(collection_of_values, 99)\n",
    "top_2 = np.percentile(collection_of_values, 98)\n",
    "top_3 = np.percentile(collection_of_values, 97)\n",
    "top_4 = np.percentile(collection_of_values, 96)\n",
    "print(f\"Mean: {mean_cov}\")\n",
    "print(f\"Std: {std_cov}\")\n",
    "print(f\"Median: {median_cov}\")"
   ]
  },
  {
   "cell_type": "markdown",
   "metadata": {},
   "source": [
    "Plots the histogram of cosinus similarity values"
   ]
  },
  {
   "cell_type": "code",
   "execution_count": 10,
   "metadata": {},
   "outputs": [
    {
     "data": {
      "image/png": "[encoded data removed]",
      "text/plain": [
       "<Figure size 2000x800 with 1 Axes>"
      ]
     },
     "metadata": {},
     "output_type": "display_data"
    }
   ],
   "source": [
    "plt.figure(figsize=(20, 8))\n",
    "sns.histplot(collection_of_values, bins=100, kde=False)\n",
    "\n",
    "plt.yscale('log')\n",
    "plt.xlim(0, 1)\n",
    "\n",
    "plt.axvline(x=mean_cov, color='red', linestyle='--', label=f'Mean: {mean_cov:.3f}')\n",
    "plt.axvline(x=median_cov, color='green', linestyle='--', label=f'Median: {median_cov:.3f}')\n",
    "\n",
    "plt.axvline(x=top_5, color='black', linestyle='--', label=f'Top 5%: {top_5:.3f}')\n",
    "plt.axvline(x=top_10, color='black', linestyle='--', label=f'Top 10%: {top_10:.3f}')\n",
    "plt.axvline(x=top_15, color='black', linestyle='--', label=f'Top 15%: {top_15:.3f}')\n",
    "plt.axvline(x=top_20, color='black', linestyle='--', label=f'Top 20%: {top_20:.3f}')\n",
    "plt.axvline(x=top_25, color='black', linestyle='--', label=f'Top 25%: {top_25:.3f}')\n",
    "\n",
    "plt.axvline(x=top_1, color='orange', linestyle='--', label=f'Top 1%: {top_1:.3f}')\n",
    "plt.axvline(x=top_2, color='orange', linestyle='--', label=f'Top 2%: {top_2:.3f}')\n",
    "plt.axvline(x=top_3, color='orange', linestyle='--', label=f'Top 3%: {top_3:.3f}')\n",
    "plt.axvline(x=top_4, color='orange', linestyle='--', label=f'Top 4%: {top_4:.3f}')\n",
    "\n",
    "plt.title(\"Cosinus Similarity Distribution\")\n",
    "plt.xlabel(\"Cosinus Similarity\")\n",
    "plt.ylabel(\"Count\")\n",
    "\n",
    "plt.legend()\n",
    "plt.show()"
   ]
  },
  {
   "cell_type": "markdown",
   "metadata": {},
   "source": [
    "We can see that an extremly large majority of the similarites are below 0.5 which can be great to discrimine between comments. But there is also a pick around and these comments are likely to be the shortest ones with \"support\" and \"oppose\" as main parts of them."
   ]
  },
  {
   "cell_type": "markdown",
   "metadata": {},
   "source": [
    "# Todo \n",
    "see if we add from source_alex the count of vote for each year"
   ]
  },
  {
   "cell_type": "markdown",
   "metadata": {},
   "source": []
  }
 ],
 "metadata": {
  "kernelspec": {
   "display_name": "ada",
   "language": "python",
   "name": "python3"
  },
  "language_info": {
   "codemirror_mode": {
    "name": "ipython",
    "version": 3
   },
   "file_extension": ".py",
   "mimetype": "text/x-python",
   "name": "python",
   "nbconvert_exporter": "python",
   "pygments_lexer": "ipython3",
   "version": "3.9.18"
  },
  "orig_nbformat": 4
 },
 "nbformat": 4,
 "nbformat_minor": 2
}
