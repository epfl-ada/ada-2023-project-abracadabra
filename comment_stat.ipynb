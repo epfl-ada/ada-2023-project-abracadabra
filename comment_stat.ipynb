{
 "cells": [
  {
   "cell_type": "code",
   "execution_count": 1,
   "metadata": {},
   "outputs": [],
   "source": [
    "import pandas as pd\n",
    "from sklearn.feature_extraction.text import TfidfVectorizer\n",
    "import mwparserfromhell\n",
    "import matplotlib.pyplot as plt\n",
    "import seaborn as sns\n",
    "import numpy as np\n",
    "from sklearn.feature_extraction.text import CountVectorizer"
   ]
  },
  {
   "cell_type": "code",
   "execution_count": 6,
   "metadata": {},
   "outputs": [],
   "source": [
    "df = pd.read_csv('wiki-RFA.csv', index_col=0, parse_dates=['Date'])\n",
    "df.Comment = df.Comment.astype(str)"
   ]
  },
  {
   "cell_type": "code",
   "execution_count": 7,
   "metadata": {},
   "outputs": [
    {
     "data": {
      "text/html": [
       "<div>\n",
       "<style scoped>\n",
       "    .dataframe tbody tr th:only-of-type {\n",
       "        vertical-align: middle;\n",
       "    }\n",
       "\n",
       "    .dataframe tbody tr th {\n",
       "        vertical-align: top;\n",
       "    }\n",
       "\n",
       "    .dataframe thead th {\n",
       "        text-align: right;\n",
       "    }\n",
       "</style>\n",
       "<table border=\"1\" class=\"dataframe\">\n",
       "  <thead>\n",
       "    <tr style=\"text-align: right;\">\n",
       "      <th></th>\n",
       "      <th>Source</th>\n",
       "      <th>Target</th>\n",
       "      <th>Vote</th>\n",
       "      <th>Results</th>\n",
       "      <th>Year</th>\n",
       "      <th>Date</th>\n",
       "      <th>Comment</th>\n",
       "      <th>Parsed_Comment</th>\n",
       "    </tr>\n",
       "  </thead>\n",
       "  <tbody>\n",
       "    <tr>\n",
       "      <th>0</th>\n",
       "      <td>Steel1943</td>\n",
       "      <td>BDD</td>\n",
       "      <td>1</td>\n",
       "      <td>1</td>\n",
       "      <td>2013</td>\n",
       "      <td>2013-04-19 23:13:00</td>\n",
       "      <td>'''Support''' as co-nom.</td>\n",
       "      <td>Support as co-nom.</td>\n",
       "    </tr>\n",
       "    <tr>\n",
       "      <th>1</th>\n",
       "      <td>Cuchullain</td>\n",
       "      <td>BDD</td>\n",
       "      <td>1</td>\n",
       "      <td>1</td>\n",
       "      <td>2013</td>\n",
       "      <td>2013-04-20 01:04:00</td>\n",
       "      <td>'''Support''' as nominator.--</td>\n",
       "      <td>Support as nominator.--</td>\n",
       "    </tr>\n",
       "    <tr>\n",
       "      <th>2</th>\n",
       "      <td>INeverCry</td>\n",
       "      <td>BDD</td>\n",
       "      <td>1</td>\n",
       "      <td>1</td>\n",
       "      <td>2013</td>\n",
       "      <td>2013-04-19 23:43:00</td>\n",
       "      <td>'''Support''' per noms.</td>\n",
       "      <td>Support per noms.</td>\n",
       "    </tr>\n",
       "    <tr>\n",
       "      <th>3</th>\n",
       "      <td>Cncmaster</td>\n",
       "      <td>BDD</td>\n",
       "      <td>1</td>\n",
       "      <td>1</td>\n",
       "      <td>2013</td>\n",
       "      <td>2013-04-20 00:11:00</td>\n",
       "      <td>'''Support''' per noms. BDD is a strong contri...</td>\n",
       "      <td>Support per noms. BDD is a strong contributor ...</td>\n",
       "    </tr>\n",
       "    <tr>\n",
       "      <th>4</th>\n",
       "      <td>Miniapolis</td>\n",
       "      <td>BDD</td>\n",
       "      <td>1</td>\n",
       "      <td>1</td>\n",
       "      <td>2013</td>\n",
       "      <td>2013-04-20 00:56:00</td>\n",
       "      <td>'''Support''', with great pleasure. I work wit...</td>\n",
       "      <td>Support, with great pleasure. I work with BDD ...</td>\n",
       "    </tr>\n",
       "    <tr>\n",
       "      <th>...</th>\n",
       "      <td>...</td>\n",
       "      <td>...</td>\n",
       "      <td>...</td>\n",
       "      <td>...</td>\n",
       "      <td>...</td>\n",
       "      <td>...</td>\n",
       "      <td>...</td>\n",
       "      <td>...</td>\n",
       "    </tr>\n",
       "    <tr>\n",
       "      <th>198270</th>\n",
       "      <td>172</td>\n",
       "      <td>Vancouverguy</td>\n",
       "      <td>1</td>\n",
       "      <td>1</td>\n",
       "      <td>2003</td>\n",
       "      <td>2003-09-02 02:51:00</td>\n",
       "      <td>Support</td>\n",
       "      <td>Support</td>\n",
       "    </tr>\n",
       "    <tr>\n",
       "      <th>198271</th>\n",
       "      <td>Angela</td>\n",
       "      <td>WhisperToMe</td>\n",
       "      <td>1</td>\n",
       "      <td>1</td>\n",
       "      <td>2003</td>\n",
       "      <td>2003-11-26 23:45:00</td>\n",
       "      <td>Support.</td>\n",
       "      <td>Support.</td>\n",
       "    </tr>\n",
       "    <tr>\n",
       "      <th>198272</th>\n",
       "      <td>Jiang</td>\n",
       "      <td>WhisperToMe</td>\n",
       "      <td>1</td>\n",
       "      <td>1</td>\n",
       "      <td>2003</td>\n",
       "      <td>NaT</td>\n",
       "      <td>Support. --</td>\n",
       "      <td>Support. --</td>\n",
       "    </tr>\n",
       "    <tr>\n",
       "      <th>198273</th>\n",
       "      <td>Pakaran</td>\n",
       "      <td>WhisperToMe</td>\n",
       "      <td>1</td>\n",
       "      <td>1</td>\n",
       "      <td>2003</td>\n",
       "      <td>2003-12-05 05:38:00</td>\n",
       "      <td>Support.  Age has nothing to do with maturity....</td>\n",
       "      <td>Support.  Age has nothing to do with maturity....</td>\n",
       "    </tr>\n",
       "    <tr>\n",
       "      <th>198274</th>\n",
       "      <td>Jimregan</td>\n",
       "      <td>Zanimum</td>\n",
       "      <td>1</td>\n",
       "      <td>1</td>\n",
       "      <td>2003</td>\n",
       "      <td>NaT</td>\n",
       "      <td>Support - anyone who can write so much, and so...</td>\n",
       "      <td>Support - anyone who can write so much, and so...</td>\n",
       "    </tr>\n",
       "  </tbody>\n",
       "</table>\n",
       "<p>198275 rows × 8 columns</p>\n",
       "</div>"
      ],
      "text/plain": [
       "            Source        Target  Vote  Results  Year                Date  \\\n",
       "0        Steel1943           BDD     1        1  2013 2013-04-19 23:13:00   \n",
       "1       Cuchullain           BDD     1        1  2013 2013-04-20 01:04:00   \n",
       "2        INeverCry           BDD     1        1  2013 2013-04-19 23:43:00   \n",
       "3        Cncmaster           BDD     1        1  2013 2013-04-20 00:11:00   \n",
       "4       Miniapolis           BDD     1        1  2013 2013-04-20 00:56:00   \n",
       "...            ...           ...   ...      ...   ...                 ...   \n",
       "198270         172  Vancouverguy     1        1  2003 2003-09-02 02:51:00   \n",
       "198271      Angela   WhisperToMe     1        1  2003 2003-11-26 23:45:00   \n",
       "198272       Jiang   WhisperToMe     1        1  2003                 NaT   \n",
       "198273     Pakaran   WhisperToMe     1        1  2003 2003-12-05 05:38:00   \n",
       "198274    Jimregan       Zanimum     1        1  2003                 NaT   \n",
       "\n",
       "                                                  Comment  \\\n",
       "0                                '''Support''' as co-nom.   \n",
       "1                           '''Support''' as nominator.--   \n",
       "2                                 '''Support''' per noms.   \n",
       "3       '''Support''' per noms. BDD is a strong contri...   \n",
       "4       '''Support''', with great pleasure. I work wit...   \n",
       "...                                                   ...   \n",
       "198270                                            Support   \n",
       "198271                                           Support.   \n",
       "198272                                        Support. --   \n",
       "198273  Support.  Age has nothing to do with maturity....   \n",
       "198274  Support - anyone who can write so much, and so...   \n",
       "\n",
       "                                           Parsed_Comment  \n",
       "0                                      Support as co-nom.  \n",
       "1                                 Support as nominator.--  \n",
       "2                                       Support per noms.  \n",
       "3       Support per noms. BDD is a strong contributor ...  \n",
       "4       Support, with great pleasure. I work with BDD ...  \n",
       "...                                                   ...  \n",
       "198270                                            Support  \n",
       "198271                                           Support.  \n",
       "198272                                        Support. --  \n",
       "198273  Support.  Age has nothing to do with maturity....  \n",
       "198274  Support - anyone who can write so much, and so...  \n",
       "\n",
       "[198275 rows x 8 columns]"
      ]
     },
     "execution_count": 7,
     "metadata": {},
     "output_type": "execute_result"
    }
   ],
   "source": [
    "df[\"Parsed_Comment\"] = df.Comment.apply(lambda x: mwparserfromhell.parse(x).strip_code())\n",
    "df"
   ]
  },
  {
   "cell_type": "code",
   "execution_count": 50,
   "metadata": {},
   "outputs": [
    {
     "data": {
      "text/plain": [
       "Source                        LlamaAl\n",
       "Target                            BDD\n",
       "Vote                                1\n",
       "Results                             1\n",
       "Year                             2013\n",
       "Date              2013-04-22 04:12:00\n",
       "Comment                           nan\n",
       "Parsed_Comment                    nan\n",
       "Name: 51, dtype: object"
      ]
     },
     "execution_count": 50,
     "metadata": {},
     "output_type": "execute_result"
    }
   ],
   "source": [
    "df.loc[51]"
   ]
  },
  {
   "cell_type": "code",
   "execution_count": 28,
   "metadata": {},
   "outputs": [],
   "source": [
    "stat_df = pd.DataFrame(columns = ['Comment', 'Parsed_Comment'])\n",
    "stat_df['Comment'] = df['Comment']\n",
    "stat_df['Parsed_Comment']=df['Parsed_Comment']"
   ]
  },
  {
   "cell_type": "code",
   "execution_count": 29,
   "metadata": {},
   "outputs": [
    {
     "data": {
      "text/html": [
       "<div>\n",
       "<style scoped>\n",
       "    .dataframe tbody tr th:only-of-type {\n",
       "        vertical-align: middle;\n",
       "    }\n",
       "\n",
       "    .dataframe tbody tr th {\n",
       "        vertical-align: top;\n",
       "    }\n",
       "\n",
       "    .dataframe thead th {\n",
       "        text-align: right;\n",
       "    }\n",
       "</style>\n",
       "<table border=\"1\" class=\"dataframe\">\n",
       "  <thead>\n",
       "    <tr style=\"text-align: right;\">\n",
       "      <th></th>\n",
       "      <th>Comment</th>\n",
       "      <th>Parsed_Comment</th>\n",
       "      <th>Vectorized_Comment</th>\n",
       "      <th>Vector_Size</th>\n",
       "    </tr>\n",
       "  </thead>\n",
       "  <tbody>\n",
       "    <tr>\n",
       "      <th>0</th>\n",
       "      <td>'''Support''' as co-nom.</td>\n",
       "      <td>Support as co-nom.</td>\n",
       "      <td>[support, as, co, nom]</td>\n",
       "      <td>4</td>\n",
       "    </tr>\n",
       "    <tr>\n",
       "      <th>1</th>\n",
       "      <td>'''Support''' as nominator.--</td>\n",
       "      <td>Support as nominator.--</td>\n",
       "      <td>[support, as, nominator]</td>\n",
       "      <td>3</td>\n",
       "    </tr>\n",
       "    <tr>\n",
       "      <th>2</th>\n",
       "      <td>'''Support''' per noms.</td>\n",
       "      <td>Support per noms.</td>\n",
       "      <td>[support, per, noms]</td>\n",
       "      <td>3</td>\n",
       "    </tr>\n",
       "    <tr>\n",
       "      <th>3</th>\n",
       "      <td>'''Support''' per noms. BDD is a strong contri...</td>\n",
       "      <td>Support per noms. BDD is a strong contributor ...</td>\n",
       "      <td>[support, per, noms, bdd, is, strong, contribu...</td>\n",
       "      <td>19</td>\n",
       "    </tr>\n",
       "    <tr>\n",
       "      <th>4</th>\n",
       "      <td>'''Support''', with great pleasure. I work wit...</td>\n",
       "      <td>Support, with great pleasure. I work with BDD ...</td>\n",
       "      <td>[support, with, great, pleasure, work, with, b...</td>\n",
       "      <td>34</td>\n",
       "    </tr>\n",
       "    <tr>\n",
       "      <th>...</th>\n",
       "      <td>...</td>\n",
       "      <td>...</td>\n",
       "      <td>...</td>\n",
       "      <td>...</td>\n",
       "    </tr>\n",
       "    <tr>\n",
       "      <th>198270</th>\n",
       "      <td>Support</td>\n",
       "      <td>Support</td>\n",
       "      <td>[support]</td>\n",
       "      <td>1</td>\n",
       "    </tr>\n",
       "    <tr>\n",
       "      <th>198271</th>\n",
       "      <td>Support.</td>\n",
       "      <td>Support.</td>\n",
       "      <td>[support]</td>\n",
       "      <td>1</td>\n",
       "    </tr>\n",
       "    <tr>\n",
       "      <th>198272</th>\n",
       "      <td>Support. --</td>\n",
       "      <td>Support. --</td>\n",
       "      <td>[support]</td>\n",
       "      <td>1</td>\n",
       "    </tr>\n",
       "    <tr>\n",
       "      <th>198273</th>\n",
       "      <td>Support.  Age has nothing to do with maturity....</td>\n",
       "      <td>Support.  Age has nothing to do with maturity....</td>\n",
       "      <td>[support, age, has, nothing, to, do, with, mat...</td>\n",
       "      <td>8</td>\n",
       "    </tr>\n",
       "    <tr>\n",
       "      <th>198274</th>\n",
       "      <td>Support - anyone who can write so much, and so...</td>\n",
       "      <td>Support - anyone who can write so much, and so...</td>\n",
       "      <td>[support, anyone, who, can, write, so, much, a...</td>\n",
       "      <td>16</td>\n",
       "    </tr>\n",
       "  </tbody>\n",
       "</table>\n",
       "<p>198275 rows × 4 columns</p>\n",
       "</div>"
      ],
      "text/plain": [
       "                                                  Comment  \\\n",
       "0                                '''Support''' as co-nom.   \n",
       "1                           '''Support''' as nominator.--   \n",
       "2                                 '''Support''' per noms.   \n",
       "3       '''Support''' per noms. BDD is a strong contri...   \n",
       "4       '''Support''', with great pleasure. I work wit...   \n",
       "...                                                   ...   \n",
       "198270                                            Support   \n",
       "198271                                           Support.   \n",
       "198272                                        Support. --   \n",
       "198273  Support.  Age has nothing to do with maturity....   \n",
       "198274  Support - anyone who can write so much, and so...   \n",
       "\n",
       "                                           Parsed_Comment  \\\n",
       "0                                      Support as co-nom.   \n",
       "1                                 Support as nominator.--   \n",
       "2                                       Support per noms.   \n",
       "3       Support per noms. BDD is a strong contributor ...   \n",
       "4       Support, with great pleasure. I work with BDD ...   \n",
       "...                                                   ...   \n",
       "198270                                            Support   \n",
       "198271                                           Support.   \n",
       "198272                                        Support. --   \n",
       "198273  Support.  Age has nothing to do with maturity....   \n",
       "198274  Support - anyone who can write so much, and so...   \n",
       "\n",
       "                                       Vectorized_Comment  Vector_Size  \n",
       "0                                  [support, as, co, nom]            4  \n",
       "1                                [support, as, nominator]            3  \n",
       "2                                    [support, per, noms]            3  \n",
       "3       [support, per, noms, bdd, is, strong, contribu...           19  \n",
       "4       [support, with, great, pleasure, work, with, b...           34  \n",
       "...                                                   ...          ...  \n",
       "198270                                          [support]            1  \n",
       "198271                                          [support]            1  \n",
       "198272                                          [support]            1  \n",
       "198273  [support, age, has, nothing, to, do, with, mat...            8  \n",
       "198274  [support, anyone, who, can, write, so, much, a...           16  \n",
       "\n",
       "[198275 rows x 4 columns]"
      ]
     },
     "execution_count": 29,
     "metadata": {},
     "output_type": "execute_result"
    }
   ],
   "source": [
    "vectorizer = CountVectorizer()\n",
    "stat_df['Vectorized_Comment'] = stat_df['Parsed_Comment'].apply(lambda x: vectorizer.build_analyzer()(x))\n",
    "stat_df['Vector_Size'] = stat_df['Vectorized_Comment'].apply(lambda x: len(x))\n",
    "stat_df"
   ]
  },
  {
   "cell_type": "markdown",
   "metadata": {},
   "source": [
    "### Comment analysis"
   ]
  },
  {
   "cell_type": "code",
   "execution_count": 41,
   "metadata": {},
   "outputs": [
    {
     "name": "stdout",
     "output_type": "stream",
     "text": [
      "The minimun length of the comment is:  0\n",
      "The maximum length of the comment is:  891\n",
      "The percentage of vote without comment is:  0.9143865842894968\n",
      "The percentage of comment with one word is:  10.839490606480897\n",
      "The percentage of comment with 2 words is:  2.409784390366915\n"
     ]
    }
   ],
   "source": [
    "print('The minimun length of the comment is: ', np.min(stat_df['Vector_Size']))\n",
    "print('The maximum length of the comment is: ', np.max(stat_df['Vector_Size']))\n",
    "\n",
    "proportion_no_comment=np.sum(stat_df['Vector_Size']==0)/len(stat_df['Vector_Size'])*100\n",
    "print('The percentage of vote without comment is: ', proportion_no_comment)\n",
    "proportion_one_word=np.sum(stat_df['Vector_Size']==1)/len(stat_df['Vector_Size'])*100\n",
    "print('The percentage of comment with one word is: ', proportion_one_word)\n",
    "proportion_two_word=np.sum(stat_df['Vector_Size']==2)/len(stat_df['Vector_Size'])*100\n",
    "print('The percentage of comment with 2 words is: ', proportion_two_word)"
   ]
  },
  {
   "cell_type": "markdown",
   "metadata": {},
   "source": [
    "No comment analysis"
   ]
  },
  {
   "cell_type": "code",
   "execution_count": 288,
   "metadata": {},
   "outputs": [
    {
     "data": {
      "text/html": [
       "<div>\n",
       "<style scoped>\n",
       "    .dataframe tbody tr th:only-of-type {\n",
       "        vertical-align: middle;\n",
       "    }\n",
       "\n",
       "    .dataframe tbody tr th {\n",
       "        vertical-align: top;\n",
       "    }\n",
       "\n",
       "    .dataframe thead th {\n",
       "        text-align: right;\n",
       "    }\n",
       "</style>\n",
       "<table border=\"1\" class=\"dataframe\">\n",
       "  <thead>\n",
       "    <tr style=\"text-align: right;\">\n",
       "      <th></th>\n",
       "      <th>Comment</th>\n",
       "      <th>Parsed_Comment</th>\n",
       "      <th>Vectorized_Comment</th>\n",
       "      <th>Vector_Size</th>\n",
       "    </tr>\n",
       "  </thead>\n",
       "  <tbody>\n",
       "    <tr>\n",
       "      <th>156</th>\n",
       "      <td>{{pro}} --</td>\n",
       "      <td>--</td>\n",
       "      <td>[]</td>\n",
       "      <td>0</td>\n",
       "    </tr>\n",
       "    <tr>\n",
       "      <th>373</th>\n",
       "      <td>← &amp;mdash;&amp;nbsp;'''</td>\n",
       "      <td>← — '''</td>\n",
       "      <td>[]</td>\n",
       "      <td>0</td>\n",
       "    </tr>\n",
       "    <tr>\n",
       "      <th>427</th>\n",
       "      <td>--</td>\n",
       "      <td>--</td>\n",
       "      <td>[]</td>\n",
       "      <td>0</td>\n",
       "    </tr>\n",
       "    <tr>\n",
       "      <th>441</th>\n",
       "      <td>--</td>\n",
       "      <td>--</td>\n",
       "      <td>[]</td>\n",
       "      <td>0</td>\n",
       "    </tr>\n",
       "    <tr>\n",
       "      <th>543</th>\n",
       "      <td>--</td>\n",
       "      <td>--</td>\n",
       "      <td>[]</td>\n",
       "      <td>0</td>\n",
       "    </tr>\n",
       "    <tr>\n",
       "      <th>...</th>\n",
       "      <td>...</td>\n",
       "      <td>...</td>\n",
       "      <td>...</td>\n",
       "      <td>...</td>\n",
       "    </tr>\n",
       "    <tr>\n",
       "      <th>197653</th>\n",
       "      <td>--</td>\n",
       "      <td>--</td>\n",
       "      <td>[]</td>\n",
       "      <td>0</td>\n",
       "    </tr>\n",
       "    <tr>\n",
       "      <th>197837</th>\n",
       "      <td>&lt;!-- [[User:132.239.16.160|132.239.16.160]] --&gt;</td>\n",
       "      <td></td>\n",
       "      <td>[]</td>\n",
       "      <td>0</td>\n",
       "    </tr>\n",
       "    <tr>\n",
       "      <th>197902</th>\n",
       "      <td>[[User talk:TPK|T.]]</td>\n",
       "      <td>T.</td>\n",
       "      <td>[]</td>\n",
       "      <td>0</td>\n",
       "    </tr>\n",
       "    <tr>\n",
       "      <th>197940</th>\n",
       "      <td>--</td>\n",
       "      <td>--</td>\n",
       "      <td>[]</td>\n",
       "      <td>0</td>\n",
       "    </tr>\n",
       "    <tr>\n",
       "      <th>198002</th>\n",
       "      <td>--</td>\n",
       "      <td>--</td>\n",
       "      <td>[]</td>\n",
       "      <td>0</td>\n",
       "    </tr>\n",
       "  </tbody>\n",
       "</table>\n",
       "<p>1813 rows × 4 columns</p>\n",
       "</div>"
      ],
      "text/plain": [
       "                                                Comment Parsed_Comment  \\\n",
       "156                                          {{pro}} --             --   \n",
       "373                                  ← &mdash;&nbsp;'''        ← — '''   \n",
       "427                                                  --             --   \n",
       "441                                                  --             --   \n",
       "543                                                  --             --   \n",
       "...                                                 ...            ...   \n",
       "197653                                               --             --   \n",
       "197837  <!-- [[User:132.239.16.160|132.239.16.160]] -->                  \n",
       "197902                             [[User talk:TPK|T.]]             T.   \n",
       "197940                                               --             --   \n",
       "198002                                               --             --   \n",
       "\n",
       "       Vectorized_Comment  Vector_Size  \n",
       "156                    []            0  \n",
       "373                    []            0  \n",
       "427                    []            0  \n",
       "441                    []            0  \n",
       "543                    []            0  \n",
       "...                   ...          ...  \n",
       "197653                 []            0  \n",
       "197837                 []            0  \n",
       "197902                 []            0  \n",
       "197940                 []            0  \n",
       "198002                 []            0  \n",
       "\n",
       "[1813 rows x 4 columns]"
      ]
     },
     "execution_count": 288,
     "metadata": {},
     "output_type": "execute_result"
    }
   ],
   "source": [
    "zero_word = stat_df[stat_df['Vector_Size']==0] #the vectorization removes almost all stop words/non significant words\n",
    "zero_word"
   ]
  },
  {
   "cell_type": "markdown",
   "metadata": {},
   "source": [
    "One word comment analysis"
   ]
  },
  {
   "cell_type": "code",
   "execution_count": 42,
   "metadata": {},
   "outputs": [
    {
     "name": "stdout",
     "output_type": "stream",
     "text": [
      "Proportion of comment of one word 0.436921092766244\n",
      "The proportion of one word comment which is \"nan\" is:  33.45430857993672\n",
      "The proportion of one word comment which is \"support\" is:  56.88628326819282\n",
      "The proportion of one word comment which is NOT \"support\" or \"nan\" is:  9.659408151870464\n"
     ]
    }
   ],
   "source": [
    "one_word = stat_df[stat_df['Vector_Size']==1]\n",
    "\n",
    "print('Proportion of comment of one word', len(one_word['Vector_Size'])/np.sum(stat_df['Vector_Size'])*100)\n",
    "print('The proportion of one word comment which is \"nan\" is: ', np.sum(np.concatenate(one_word['Vectorized_Comment'].values)=='nan')/len(one_word['Vector_Size'])*100)\n",
    "\n",
    "one_word_support = one_word[(np.concatenate(one_word['Vectorized_Comment'].values)=='support')]\n",
    "print('The proportion of one word comment which is \"support\" is: ', len(one_word_support)/len(one_word['Vector_Size'])*100)\n",
    "\n",
    "one_word_other = one_word[(np.concatenate(one_word['Vectorized_Comment'].values)!='support') & (np.concatenate(one_word['Vectorized_Comment'].values)!='nan')]\n",
    "print('The proportion of one word comment which is NOT \"support\" or \"nan\" is: ', len(one_word_other)/len(one_word['Vector_Size'])*100)"
   ]
  },
  {
   "cell_type": "code",
   "execution_count": 267,
   "metadata": {},
   "outputs": [
    {
     "data": {
      "text/plain": [
       "word\n",
       "support       56.886283\n",
       "nan           33.454309\n",
       "oppose         1.372604\n",
       "yes            0.656058\n",
       "cool           0.595570\n",
       "sure           0.497860\n",
       "me             0.479248\n",
       "absolutely     0.479248\n",
       "small          0.321050\n",
       "neutral        0.307091\n",
       "definitely     0.260562\n",
       "certainly      0.227992\n",
       "yep            0.200074\n",
       "yup            0.190769\n",
       "tεxτ           0.153546\n",
       "Name: proportion, dtype: float64"
      ]
     },
     "execution_count": 267,
     "metadata": {},
     "output_type": "execute_result"
    }
   ],
   "source": [
    "df_one_word = pd.DataFrame(np.concatenate(one_word['Vectorized_Comment'].values), columns=['word']) #handle the list of string type for each row\n",
    "percentage=df_one_word['word'].value_counts(normalize=True)*100\n",
    "percentage[:15]"
   ]
  },
  {
   "cell_type": "code",
   "execution_count": 276,
   "metadata": {},
   "outputs": [
    {
     "data": {
      "image/png": "[encoded data removed]",
      "text/plain": [
       "<Figure size 1200x600 with 1 Axes>"
      ]
     },
     "metadata": {},
     "output_type": "display_data"
    }
   ],
   "source": [
    "plt.figure(figsize=(12, 6))\n",
    "sns.barplot(x=percentage[:15].index, y=percentage[:15].values)\n",
    "plt.xticks(rotation=45)\n",
    "plt.yscale('log')\n",
    "plt.xlabel('Word occurrence')\n",
    "plt.ylabel('Percentage')\n",
    "plt.title('Percentage of occurrence of the 15 first words')\n",
    "plt.show()\n",
    "                           "
   ]
  },
  {
   "cell_type": "markdown",
   "metadata": {},
   "source": [
    "Nan values represent 33% of the 1 word comment we have, we need to replace these nan values with empty comment. "
   ]
  },
  {
   "cell_type": "markdown",
   "metadata": {},
   "source": []
  },
  {
   "cell_type": "markdown",
   "metadata": {},
   "source": [
    "## Distribution plot"
   ]
  },
  {
   "cell_type": "code",
   "execution_count": 5,
   "metadata": {},
   "outputs": [
    {
     "ename": "NameError",
     "evalue": "name 'stat_df' is not defined",
     "output_type": "error",
     "traceback": [
      "\u001b[1;31m---------------------------------------------------------------------------\u001b[0m",
      "\u001b[1;31mNameError\u001b[0m                                 Traceback (most recent call last)",
      "\u001b[1;32mc:\\Users\\gaell\\OneDrive\\Bureau\\MA3\\ADA\\Projet\\ada-2023-project-abracadabra\\comment_stat.ipynb Cell 19\u001b[0m line \u001b[0;36m1\n\u001b[1;32m----> <a href='vscode-notebook-cell:/c%3A/Users/gaell/OneDrive/Bureau/MA3/ADA/Projet/ada-2023-project-abracadabra/comment_stat.ipynb#Y102sZmlsZQ%3D%3D?line=0'>1</a>\u001b[0m sns\u001b[39m.\u001b[39mhistplot(stat_df[\u001b[39m'\u001b[39m\u001b[39mVector_Size\u001b[39m\u001b[39m'\u001b[39m],binwidth\u001b[39m=\u001b[39m\u001b[39m1\u001b[39m, kde\u001b[39m=\u001b[39m\u001b[39mFalse\u001b[39;00m)  \n\u001b[0;32m      <a href='vscode-notebook-cell:/c%3A/Users/gaell/OneDrive/Bureau/MA3/ADA/Projet/ada-2023-project-abracadabra/comment_stat.ipynb#Y102sZmlsZQ%3D%3D?line=1'>2</a>\u001b[0m plt\u001b[39m.\u001b[39mtitle(\u001b[39m'\u001b[39m\u001b[39mComment length distribution\u001b[39m\u001b[39m'\u001b[39m)\n\u001b[0;32m      <a href='vscode-notebook-cell:/c%3A/Users/gaell/OneDrive/Bureau/MA3/ADA/Projet/ada-2023-project-abracadabra/comment_stat.ipynb#Y102sZmlsZQ%3D%3D?line=2'>3</a>\u001b[0m plt\u001b[39m.\u001b[39mxlabel(\u001b[39m'\u001b[39m\u001b[39mNumber of word per comment\u001b[39m\u001b[39m'\u001b[39m)\n",
      "\u001b[1;31mNameError\u001b[0m: name 'stat_df' is not defined"
     ]
    }
   ],
   "source": [
    "sns.histplot(stat_df['Vector_Size'],binwidth=1, kde=False)  \n",
    "plt.title('Comment length distribution')\n",
    "plt.xlabel('Number of word per comment')\n",
    "plt.ylabel('Number of comment')\n",
    "plt.xlim(0,900)\n",
    "plt.yscale('log') #pas sûre si ok de mettre log scale ici\n",
    "plt.show()"
   ]
  },
  {
   "cell_type": "code",
   "execution_count": 44,
   "metadata": {},
   "outputs": [
    {
     "data": {
      "image/png": "[encoded data removed]",
      "text/plain": [
       "<Figure size 640x480 with 1 Axes>"
      ]
     },
     "metadata": {},
     "output_type": "display_data"
    }
   ],
   "source": [
    "sns.histplot(data=stat_df, x='Vector_Size', kde=True, binwidth=1, stat='percent') \n",
    "plt.ylim(0,12)\n",
    "plt.show()"
   ]
  },
  {
   "cell_type": "code",
   "execution_count": 45,
   "metadata": {},
   "outputs": [
    {
     "data": {
      "image/png": "[encoded data removed]",
      "text/plain": [
       "<Figure size 640x480 with 1 Axes>"
      ]
     },
     "metadata": {},
     "output_type": "display_data"
    }
   ],
   "source": [
    "sns.histplot(data=stat_df, x='Vector_Size', kde=True, binwidth=10, stat='percent') #j'ai pris arbitrairement 10 mots\n",
    "plt.show()"
   ]
  },
  {
   "cell_type": "code",
   "execution_count": null,
   "metadata": {},
   "outputs": [],
   "source": [
    "\"\"\"EMMA VA REGARDER POUR AVOIR UN GRAPH QUI PERMETTE DE VOIR TOUTE LA DIST D'UN COUP \"\"\"\n",
    "\n",
    "#sns.histplot(data=stat_df, x='Vector_Size', kde=True, binwidth=1, stat='percent', log_scale=(True, False)) #j'ai pris 10 arbitrairement, à changer au besoin\n",
    "fig, ax = plt.subplots(figsize=(15,10))\n",
    "test = stat_df \"\"\"ATTENTION, FAIRE UNE HARD COPY POUR PAS QUE CA MODIFIE LA DATAFRAME STAT_DF AUSSI\"\"\"\n",
    "test.Vector_Size = test.Vector_Size+0.1\n",
    "sns.histplot(data=test, kde=True, stat='percent', log_scale=(True, False), bins=100, ax=ax) #j'ai pris 10 arbitrairement, à changer au besoin\n",
    "ax.set_title('Comment length distribution (percentage)')\n",
    "ax.set_xlabel('Number of word per comment')\n",
    "ax.set_ylabel('Percentage of comment')\n",
    "ax.set_xscale('log')\n",
    "ticks = [1, 10, 20, 50, 100, 200, 500, 1000]\n",
    "#ax.set_xticks(ticks=ticks, labels=['1','10', '20', '50', '100', '200', '500', '1000'])\n",
    "plt.show()"
   ]
  }
 ],
 "metadata": {
  "kernelspec": {
   "display_name": "ada",
   "language": "python",
   "name": "python3"
  },
  "language_info": {
   "codemirror_mode": {
    "name": "ipython",
    "version": 3
   },
   "file_extension": ".py",
   "mimetype": "text/x-python",
   "name": "python",
   "nbconvert_exporter": "python",
   "pygments_lexer": "ipython3",
   "version": "3.9.18"
  }
 },
 "nbformat": 4,
 "nbformat_minor": 2
}
