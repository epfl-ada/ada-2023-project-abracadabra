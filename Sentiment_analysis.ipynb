{
 "cells": [
  {
   "cell_type": "code",
   "execution_count": 2,
   "metadata": {},
   "outputs": [],
   "source": [
    "import numpy as np\n",
    "import pandas as pd\n",
    "import matplotlib.pyplot as plt\n",
    "import seaborn as sns\n",
    "import warnings\n",
    "import mwparserfromhell\n",
    "import string\n",
    "import vaderSentiment\n",
    "import spacy, nltk, gensim, sklearn\n",
    "import pyLDAvis.gensim_models\n",
    "\n",
    "from vaderSentiment.vaderSentiment import SentimentIntensityAnalyzer\n",
    "from textblob import TextBlob\n",
    "from sklearn.feature_extraction.text import TfidfVectorizer\n",
    "from sklearn.metrics.pairwise import cosine_similarity\n",
    "from nltk.corpus import stopwords"
   ]
  },
  {
   "cell_type": "markdown",
   "metadata": {},
   "source": [
    "# Loading Data\n",
    "\n",
    "And correct some date inconcistencies"
   ]
  },
  {
   "cell_type": "code",
   "execution_count": 3,
   "metadata": {},
   "outputs": [
    {
     "data": {
      "text/html": [
       "<div>\n",
       "<style scoped>\n",
       "    .dataframe tbody tr th:only-of-type {\n",
       "        vertical-align: middle;\n",
       "    }\n",
       "\n",
       "    .dataframe tbody tr th {\n",
       "        vertical-align: top;\n",
       "    }\n",
       "\n",
       "    .dataframe thead th {\n",
       "        text-align: right;\n",
       "    }\n",
       "</style>\n",
       "<table border=\"1\" class=\"dataframe\">\n",
       "  <thead>\n",
       "    <tr style=\"text-align: right;\">\n",
       "      <th></th>\n",
       "      <th>Source</th>\n",
       "      <th>Target</th>\n",
       "      <th>Vote</th>\n",
       "      <th>Results</th>\n",
       "      <th>Year</th>\n",
       "      <th>Date</th>\n",
       "      <th>Comment</th>\n",
       "    </tr>\n",
       "  </thead>\n",
       "  <tbody>\n",
       "    <tr>\n",
       "      <th>12533</th>\n",
       "      <td>Reedy</td>\n",
       "      <td>HJ Mitchell</td>\n",
       "      <td>-1</td>\n",
       "      <td>1</td>\n",
       "      <td>2011</td>\n",
       "      <td>22:38, 8 May 2011</td>\n",
       "      <td>'''Oppose'''</td>\n",
       "    </tr>\n",
       "    <tr>\n",
       "      <th>13217</th>\n",
       "      <td>Kwamikagami</td>\n",
       "      <td>Kudpung</td>\n",
       "      <td>-1</td>\n",
       "      <td>1</td>\n",
       "      <td>2011</td>\n",
       "      <td>07:06, 25 February 2011</td>\n",
       "      <td>'''Oppose''' One of the most unpleasant and se...</td>\n",
       "    </tr>\n",
       "    <tr>\n",
       "      <th>13048</th>\n",
       "      <td>Trusilver</td>\n",
       "      <td>Ks0stm</td>\n",
       "      <td>1</td>\n",
       "      <td>1</td>\n",
       "      <td>2011</td>\n",
       "      <td>07:19, 9 September 2011</td>\n",
       "      <td>'''Support''' moved from Oppose. I have some r...</td>\n",
       "    </tr>\n",
       "  </tbody>\n",
       "</table>\n",
       "</div>"
      ],
      "text/plain": [
       "            Source       Target Vote Results  Year                     Date  \\\n",
       "12533        Reedy  HJ Mitchell   -1       1  2011        22:38, 8 May 2011   \n",
       "13217  Kwamikagami      Kudpung   -1       1  2011  07:06, 25 February 2011   \n",
       "13048    Trusilver       Ks0stm    1       1  2011  07:19, 9 September 2011   \n",
       "\n",
       "                                                 Comment  \n",
       "12533                                       '''Oppose'''  \n",
       "13217  '''Oppose''' One of the most unpleasant and se...  \n",
       "13048  '''Support''' moved from Oppose. I have some r...  "
      ]
     },
     "execution_count": 3,
     "metadata": {},
     "output_type": "execute_result"
    }
   ],
   "source": [
    "# Read the file into a list of lines\n",
    "with open('wiki-RfA.txt', 'r', encoding=\"utf8\") as file:\n",
    "    lines = file.readlines()\n",
    "\n",
    "# Create a list of dictionaries, where each dictionary represents a record\n",
    "df = []\n",
    "current_entry = {}\n",
    "\n",
    "# Iterate through each line, current_entry = one log entry with all columns, df = list of all votee/voter pairs\n",
    "for line in lines:\n",
    "    line = line.strip()\n",
    "    if line:\n",
    "        key, value = line.split(':', 1)\n",
    "        current_entry[key] = value\n",
    "    else:\n",
    "        df.append(current_entry)\n",
    "        current_entry = {}\n",
    "\n",
    "# Append  last record\n",
    "if current_entry:\n",
    "    df.append(current_entry)\n",
    "\n",
    "# Convert into DataFrame and store in csv\n",
    "df = pd.DataFrame(df)\n",
    "df.columns = ['Source', 'Target', 'Vote', 'Results', 'Year', 'Date', 'Comment']\n",
    "original_df = df.copy()\n",
    "df.sample(3)"
   ]
  },
  {
   "cell_type": "code",
   "execution_count": 4,
   "metadata": {},
   "outputs": [
    {
     "data": {
      "text/html": [
       "<div>\n",
       "<style scoped>\n",
       "    .dataframe tbody tr th:only-of-type {\n",
       "        vertical-align: middle;\n",
       "    }\n",
       "\n",
       "    .dataframe tbody tr th {\n",
       "        vertical-align: top;\n",
       "    }\n",
       "\n",
       "    .dataframe thead th {\n",
       "        text-align: right;\n",
       "    }\n",
       "</style>\n",
       "<table border=\"1\" class=\"dataframe\">\n",
       "  <thead>\n",
       "    <tr style=\"text-align: right;\">\n",
       "      <th></th>\n",
       "      <th>Source</th>\n",
       "      <th>Target</th>\n",
       "      <th>Vote</th>\n",
       "      <th>Results</th>\n",
       "      <th>Year</th>\n",
       "      <th>Date</th>\n",
       "      <th>Comment</th>\n",
       "    </tr>\n",
       "  </thead>\n",
       "  <tbody>\n",
       "    <tr>\n",
       "      <th>75735</th>\n",
       "      <td>Hro%C3%B0ulf</td>\n",
       "      <td>Golich17</td>\n",
       "      <td>-1</td>\n",
       "      <td>-1</td>\n",
       "      <td>2008</td>\n",
       "      <td>2008-06-23 10:54:00</td>\n",
       "      <td>'''Oppose with regret''': An outstanding edito...</td>\n",
       "    </tr>\n",
       "    <tr>\n",
       "      <th>180171</th>\n",
       "      <td>Suffice</td>\n",
       "      <td>Mark Dingemanse</td>\n",
       "      <td>1</td>\n",
       "      <td>1</td>\n",
       "      <td>2005</td>\n",
       "      <td>2005-03-14 02:15:00</td>\n",
       "      <td>'''Support'''. [[Image:Cheeseburger.png|20px]]</td>\n",
       "    </tr>\n",
       "    <tr>\n",
       "      <th>29279</th>\n",
       "      <td>BD2412</td>\n",
       "      <td>Jc3s5h</td>\n",
       "      <td>1</td>\n",
       "      <td>-1</td>\n",
       "      <td>2010</td>\n",
       "      <td>2010-08-14 00:49:00</td>\n",
       "      <td>'''Support''' per nom.</td>\n",
       "    </tr>\n",
       "  </tbody>\n",
       "</table>\n",
       "</div>"
      ],
      "text/plain": [
       "              Source           Target Vote Results  Year                Date  \\\n",
       "75735   Hro%C3%B0ulf         Golich17   -1      -1  2008 2008-06-23 10:54:00   \n",
       "180171       Suffice  Mark Dingemanse    1       1  2005 2005-03-14 02:15:00   \n",
       "29279         BD2412           Jc3s5h    1      -1  2010 2010-08-14 00:49:00   \n",
       "\n",
       "                                                  Comment  \n",
       "75735   '''Oppose with regret''': An outstanding edito...  \n",
       "180171     '''Support'''. [[Image:Cheeseburger.png|20px]]  \n",
       "29279                              '''Support''' per nom.  "
      ]
     },
     "execution_count": 4,
     "metadata": {},
     "output_type": "execute_result"
    }
   ],
   "source": [
    "# Set Nan values\n",
    "# replace field that's entirely space (or empty) with NaN (the case for some Source, Date and Comment)\n",
    "df.replace(r'^\\s*$', np.nan, regex=True, inplace=True)\n",
    "\n",
    "#handle NaN values in Comment for vectorization\n",
    "df.Comment = df.Comment.replace(np.nan, None)\n",
    "\n",
    "# replace inconsistent date\n",
    "df['Date'] = df['Date'].str.replace('Julu ', 'July ')\n",
    "df['Date'] = df['Date'].str.replace('Janry ', 'January ')\n",
    "df['Date'] = df['Date'].str.replace('Mya ', 'May ')\n",
    "df['Date'] = df['Date'].str.replace('Jan ', 'January ')\n",
    "df['Date'] = df['Date'].str.replace('Feb ', 'February ')\n",
    "df['Date'] = df['Date'].str.replace('Mar ', 'March ')\n",
    "df['Date'] = df['Date'].str.replace('Apr ', 'April ')\n",
    "df['Date'] = df['Date'].str.replace('Jun ', 'June ')\n",
    "df['Date'] = df['Date'].str.replace('Jul ', 'July ')\n",
    "df['Date'] = df['Date'].str.replace('Aug ', 'August ')\n",
    "df['Date'] = df['Date'].str.replace('Sep ', 'September ')\n",
    "df['Date'] = df['Date'].str.replace('Oct ', 'October ')\n",
    "df['Date'] = df['Date'].str.replace('Nov ', 'November ')\n",
    "df['Date'] = df['Date'].str.replace('Dec ', 'December ')\n",
    "\n",
    "# Convert Date to datetime\n",
    "df['Date'] = pd.to_datetime(df['Date'], format='%H:%M, %d %B %Y', errors='coerce')\n",
    "\n",
    "# Convert Year to int\n",
    "df['Year'] = df['Year'].astype(int)\n",
    "\n",
    "df.sample(3)"
   ]
  },
  {
   "cell_type": "code",
   "execution_count": 5,
   "metadata": {},
   "outputs": [
    {
     "data": {
      "text/html": [
       "<div>\n",
       "<style scoped>\n",
       "    .dataframe tbody tr th:only-of-type {\n",
       "        vertical-align: middle;\n",
       "    }\n",
       "\n",
       "    .dataframe tbody tr th {\n",
       "        vertical-align: top;\n",
       "    }\n",
       "\n",
       "    .dataframe thead th {\n",
       "        text-align: right;\n",
       "    }\n",
       "</style>\n",
       "<table border=\"1\" class=\"dataframe\">\n",
       "  <thead>\n",
       "    <tr style=\"text-align: right;\">\n",
       "      <th></th>\n",
       "      <th>Source</th>\n",
       "      <th>Target</th>\n",
       "      <th>Vote</th>\n",
       "      <th>Results</th>\n",
       "      <th>Year</th>\n",
       "      <th>Date</th>\n",
       "      <th>Comment</th>\n",
       "    </tr>\n",
       "  </thead>\n",
       "  <tbody>\n",
       "    <tr>\n",
       "      <th>47753</th>\n",
       "      <td>MichaelQSchmidt</td>\n",
       "      <td>HJ Mitchell</td>\n",
       "      <td>1</td>\n",
       "      <td>-1</td>\n",
       "      <td>2009.0</td>\n",
       "      <td>2009-12-26 03:39:00</td>\n",
       "      <td>Has my '''Support'''. In crossing pages with h...</td>\n",
       "    </tr>\n",
       "    <tr>\n",
       "      <th>18030</th>\n",
       "      <td>Timotheus Canens</td>\n",
       "      <td>Slon02</td>\n",
       "      <td>1</td>\n",
       "      <td>-1</td>\n",
       "      <td>2011.0</td>\n",
       "      <td>2011-03-05 15:34:00</td>\n",
       "      <td>I'm not concerned about nitpicking about hyper...</td>\n",
       "    </tr>\n",
       "    <tr>\n",
       "      <th>54780</th>\n",
       "      <td>Siva1979</td>\n",
       "      <td>Alexf</td>\n",
       "      <td>1</td>\n",
       "      <td>1</td>\n",
       "      <td>2008.0</td>\n",
       "      <td>2008-01-20 12:08:00</td>\n",
       "      <td>'''Support''' No problems here. --&lt;font style=...</td>\n",
       "    </tr>\n",
       "  </tbody>\n",
       "</table>\n",
       "</div>"
      ],
      "text/plain": [
       "                 Source       Target Vote Results    Year                Date  \\\n",
       "47753   MichaelQSchmidt  HJ Mitchell    1      -1  2009.0 2009-12-26 03:39:00   \n",
       "18030  Timotheus Canens       Slon02    1      -1  2011.0 2011-03-05 15:34:00   \n",
       "54780          Siva1979        Alexf    1       1  2008.0 2008-01-20 12:08:00   \n",
       "\n",
       "                                                 Comment  \n",
       "47753  Has my '''Support'''. In crossing pages with h...  \n",
       "18030  I'm not concerned about nitpicking about hyper...  \n",
       "54780  '''Support''' No problems here. --<font style=...  "
      ]
     },
     "execution_count": 5,
     "metadata": {},
     "output_type": "execute_result"
    }
   ],
   "source": [
    "# Select users with a significant number of duplicates (by manually checking the data we found that 6 discriminate perfectly between users with actual duplicates and users with only missing data or basic comments)\n",
    "users_with_duplicates = df[df.duplicated(['Source', 'Target', 'Comment', 'Date'], keep=False) & df.Source.notnull()].groupby('Target').size() >= 6\n",
    "users_with_duplicates = users_with_duplicates[users_with_duplicates].index\n",
    "duplicates = df[df.Target.isin(users_with_duplicates) & df.duplicated(['Source', 'Target', 'Comment', 'Date'], keep=False) & df.Source.notnull()].sort_values(by=['Target', 'Source', 'Date'])\n",
    "#Remove the data of to_remove from df\n",
    "df = df.drop(duplicates.index)\n",
    "\n",
    "\n",
    "# Deal with duplicates that have different results \n",
    "perc_vote = (duplicates.groupby(['Target', 'Year']).Vote.value_counts(normalize=True) * 100).unstack(level='Vote')\n",
    "perc_vote['Result'] = perc_vote.apply(lambda x: 1 if x['1'] >= 70 else -1, axis=1, result_type='reduce')\n",
    "# Replace results in duplicates with results in perc_vote\n",
    "duplicates['Results'] = duplicates.apply(lambda x: perc_vote.loc[(x['Target'], x['Year'])]['Result'].astype(int), axis=1)\n",
    "\n",
    "\n",
    "# Deal with duplicates that have different years\n",
    "correct_year = pd.DataFrame({'Year': duplicates.Date.dt.year, 'Target': duplicates.Target})\n",
    "# Replace nan values in Year with most common year for each Target (some Dates are missing)\n",
    "correct_year.Year = correct_year.groupby('Target').Year.transform(lambda x: x.fillna(x.mode()[0]))\n",
    "# Replace years in duplicates with years in correct_year\n",
    "duplicates = duplicates.drop(columns='Year').join(correct_year.Year)\n",
    "\n",
    "# Drop the duplicate rows \n",
    "duplicates.drop_duplicates(keep='first', inplace=True)\n",
    "# Add the duplicates to df\n",
    "df = pd.concat([df, duplicates]).sort_index()\n",
    "\n",
    "\n",
    "# Deal with duplicates that have different Vote\n",
    "double_vote = df[df.duplicated(['Source', 'Target', 'Comment', 'Date'], keep=False) & df.Source.notnull() & df.Date.notnull() & (df.Vote == '0')]\n",
    "# Drop the double_vote rows\n",
    "df.drop(double_vote.index, inplace=True)\n",
    "\n",
    "df.sample(3)"
   ]
  },
  {
   "cell_type": "markdown",
   "metadata": {},
   "source": [
    "## Tests sentiment analysis"
   ]
  },
  {
   "cell_type": "code",
   "execution_count": 6,
   "metadata": {},
   "outputs": [],
   "source": [
    "# Libraries\n",
    "import vaderSentiment\n",
    "from vaderSentiment.vaderSentiment import SentimentIntensityAnalyzer\n",
    "import spacy, nltk, gensim, sklearn\n",
    "import pyLDAvis.gensim_models"
   ]
  },
  {
   "cell_type": "code",
   "execution_count": 11,
   "metadata": {},
   "outputs": [],
   "source": [
    "#Parse the comments to a new column\n",
    "df_comment = pd.read_csv('wiki-RfA.csv', index_col=0, parse_dates=['Date'])\n",
    "\n",
    "df_comment['Comment'] = df_comment['Comment'].apply(lambda x: [] if pd.isna(x) else x)\n",
    "df_comment[\"Parsed_Comment\"] = df_comment.Comment.apply(lambda x: mwparserfromhell.parse(x).strip_code())\n",
    "\n",
    "#Initialize a dataframe containing only relevant info for futur comment analysis\n",
    "stat_df = pd.DataFrame(columns = ['Source','Vote', 'Comment', 'Parsed_Comment'])\n",
    "stat_df['Vote']=df_comment['Vote']\n",
    "stat_df['Source']=df_comment['Source']\n",
    "stat_df['Comment'] = df_comment['Comment']\n",
    "stat_df['Parsed_Comment']=df_comment['Parsed_Comment']"
   ]
  },
  {
   "cell_type": "code",
   "execution_count": 16,
   "metadata": {},
   "outputs": [
    {
     "data": {
      "text/plain": [
       "0                                        Support as co-nom.\n",
       "1                                   Support as nominator.--\n",
       "2                                         Support per noms.\n",
       "3         Support per noms. BDD is a strong contributor ...\n",
       "4         Support, with great pleasure. I work with BDD ...\n",
       "                                ...                        \n",
       "198270                                              Support\n",
       "198271                                             Support.\n",
       "198272                                          Support. --\n",
       "198273    Support.  Age has nothing to do with maturity....\n",
       "198274    Support - anyone who can write so much, and so...\n",
       "Name: Parsed_Comment, Length: 195647, dtype: object"
      ]
     },
     "execution_count": 16,
     "metadata": {},
     "output_type": "execute_result"
    }
   ],
   "source": [
    "#df_comment['Comment']\n",
    "df_comment[\"Parsed_Comment\"]"
   ]
  },
  {
   "cell_type": "code",
   "execution_count": 18,
   "metadata": {},
   "outputs": [
    {
     "name": "stdout",
     "output_type": "stream",
     "text": [
      "Support as co-nom. \n",
      "\n",
      "['Support', 'as', 'co', '-', 'nom', '.']\n"
     ]
    }
   ],
   "source": [
    "import en_core_web_sm\n",
    "nlp = spacy.load(\"en_core_web_sm\")\n",
    "\n",
    "doc = nlp(df_comment[\"Parsed_Comment\"][0])\n",
    "\n",
    "#strings are encoded to hashes\n",
    "tokens = [token.text for token in doc]\n",
    "\n",
    "print(df_comment[\"Parsed_Comment\"][0],'\\n')\n",
    "print(tokens)"
   ]
  },
  {
   "cell_type": "code",
   "execution_count": 20,
   "metadata": {},
   "outputs": [],
   "source": [
    "analyzer = SentimentIntensityAnalyzer()\n",
    "vs = analyzer.polarity_scores(df_comment[\"Parsed_Comment\"][0])"
   ]
  },
  {
   "cell_type": "code",
   "execution_count": 21,
   "metadata": {},
   "outputs": [
    {
     "name": "stdout",
     "output_type": "stream",
     "text": [
      "Support as co-nom. \n",
      "\n",
      "Negative sentiment: 0.0\n",
      "Neutral sentiment: 0.426\n",
      "Positive sentiment: 0.574\n",
      "Compound sentiment: 0.4019\n"
     ]
    }
   ],
   "source": [
    "print(df_comment[\"Parsed_Comment\"][0], '\\n')\n",
    "print('Negative sentiment:',vs['neg'])\n",
    "print('Neutral sentiment:',vs['neu'])\n",
    "print('Positive sentiment:',vs['pos'])\n",
    "print('Compound sentiment:',vs['compound'])"
   ]
  },
  {
   "cell_type": "code",
   "execution_count": 36,
   "metadata": {},
   "outputs": [
    {
     "data": {
      "text/plain": [
       "(195647,)"
      ]
     },
     "execution_count": 36,
     "metadata": {},
     "output_type": "execute_result"
    }
   ],
   "source": [
    "doc = df_comment[\"Parsed_Comment\"]\n",
    "doc.shape"
   ]
  },
  {
   "cell_type": "code",
   "execution_count": 29,
   "metadata": {},
   "outputs": [
    {
     "data": {
      "text/plain": [
       "Text(0, 0.5, 'Number of comments')"
      ]
     },
     "execution_count": 29,
     "metadata": {},
     "output_type": "execute_result"
    },
    {
     "data": {
      "image/png": "[encoded data removed]",
      "text/plain": [
       "<Figure size 640x480 with 1 Axes>"
      ]
     },
     "metadata": {},
     "output_type": "display_data"
    }
   ],
   "source": [
    "positive_sent = []\n",
    "#iterate through the sentences, get polarity scores, choose a value\n",
    "[positive_sent.append(analyzer.polarity_scores(sent)['pos']) for sent in doc]\n",
    "plt.hist(positive_sent,bins=15)\n",
    "plt.xlim([0,1])\n",
    "plt.ylim([0,195647])\n",
    "plt.xlabel('Positive sentiment')\n",
    "plt.ylabel('Number of comments')"
   ]
  },
  {
   "cell_type": "code",
   "execution_count": 35,
   "metadata": {},
   "outputs": [
    {
     "data": {
      "text/plain": [
       "195647"
      ]
     },
     "execution_count": 35,
     "metadata": {},
     "output_type": "execute_result"
    }
   ],
   "source": [
    "len(positive_sent)"
   ]
  },
  {
   "cell_type": "code",
   "execution_count": 37,
   "metadata": {},
   "outputs": [
    {
     "data": {
      "text/plain": [
       "Text(0, 0.5, 'Number of comments')"
      ]
     },
     "execution_count": 37,
     "metadata": {},
     "output_type": "execute_result"
    },
    {
     "data": {
      "image/png": "[encoded data removed]",
      "text/plain": [
       "<Figure size 640x480 with 1 Axes>"
      ]
     },
     "metadata": {},
     "output_type": "display_data"
    }
   ],
   "source": [
    "negative_sent = []\n",
    "#iterate through the sentences, get polarity scores, choose a value\n",
    "[negative_sent.append(analyzer.polarity_scores(sent)['neg']) for sent in doc]\n",
    "plt.hist(negative_sent,bins=15)\n",
    "plt.xlim([0,1])\n",
    "plt.ylim([0,195647])\n",
    "plt.xlabel('Negative sentiment')\n",
    "plt.ylabel('Number of comments')"
   ]
  },
  {
   "cell_type": "code",
   "execution_count": 39,
   "metadata": {},
   "outputs": [
    {
     "data": {
      "text/plain": [
       "Text(0, 0.5, 'Number of comments')"
      ]
     },
     "execution_count": 39,
     "metadata": {},
     "output_type": "execute_result"
    },
    {
     "data": {
      "image/png": "[encoded data removed]",
      "text/plain": [
       "<Figure size 640x480 with 1 Axes>"
      ]
     },
     "metadata": {},
     "output_type": "display_data"
    }
   ],
   "source": [
    "total_sent = []\n",
    "#iterate through the sentences, get polarity scores, choose a value\n",
    "[total_sent.append(analyzer.polarity_scores(sent)['compound']) for sent in doc]\n",
    "plt.hist(total_sent,bins=15)\n",
    "plt.xlim([0,1])\n",
    "plt.ylim([0,195647])\n",
    "plt.xlabel('Compound sentiment')\n",
    "plt.ylabel('Number of comments')"
   ]
  },
  {
   "cell_type": "code",
   "execution_count": 41,
   "metadata": {},
   "outputs": [
    {
     "name": "stdout",
     "output_type": "stream",
     "text": [
      "Number of positive sentences: 147934\n",
      "Number of negative sentences: 24062\n",
      "Number of neutral sentences: 23651\n"
     ]
    }
   ],
   "source": [
    "sents = [analyzer.polarity_scores(sent)['compound'] for sent in doc]\n",
    "print('Number of positive sentences:',sum(np.array(sents)>=0.05))\n",
    "print('Number of negative sentences:',sum(np.array(sents)<=-0.05))\n",
    "print('Number of neutral sentences:',sum(np.abs(np.array(sents))<0.05))"
   ]
  },
  {
   "cell_type": "code",
   "execution_count": 61,
   "metadata": {},
   "outputs": [
    {
     "name": "stdout",
     "output_type": "stream",
     "text": [
      "Nombre de commentaires : 195647\n",
      "<class 'pandas.core.frame.DataFrame'>\n"
     ]
    },
    {
     "data": {
      "text/html": [
       "<div>\n",
       "<style scoped>\n",
       "    .dataframe tbody tr th:only-of-type {\n",
       "        vertical-align: middle;\n",
       "    }\n",
       "\n",
       "    .dataframe tbody tr th {\n",
       "        vertical-align: top;\n",
       "    }\n",
       "\n",
       "    .dataframe thead th {\n",
       "        text-align: right;\n",
       "    }\n",
       "</style>\n",
       "<table border=\"1\" class=\"dataframe\">\n",
       "  <thead>\n",
       "    <tr style=\"text-align: right;\">\n",
       "      <th></th>\n",
       "      <th>Parsed_Comment</th>\n",
       "      <th>sent_score</th>\n",
       "    </tr>\n",
       "  </thead>\n",
       "  <tbody>\n",
       "    <tr>\n",
       "      <th>0</th>\n",
       "      <td>Support as co-nom.</td>\n",
       "      <td>0.4019</td>\n",
       "    </tr>\n",
       "    <tr>\n",
       "      <th>1</th>\n",
       "      <td>Support as nominator.--</td>\n",
       "      <td>0.4019</td>\n",
       "    </tr>\n",
       "    <tr>\n",
       "      <th>2</th>\n",
       "      <td>Support per noms.</td>\n",
       "      <td>0.4019</td>\n",
       "    </tr>\n",
       "    <tr>\n",
       "      <th>3</th>\n",
       "      <td>Support per noms. BDD is a strong contributor ...</td>\n",
       "      <td>0.7052</td>\n",
       "    </tr>\n",
       "    <tr>\n",
       "      <th>4</th>\n",
       "      <td>Support, with great pleasure. I work with BDD ...</td>\n",
       "      <td>0.9349</td>\n",
       "    </tr>\n",
       "    <tr>\n",
       "      <th>...</th>\n",
       "      <td>...</td>\n",
       "      <td>...</td>\n",
       "    </tr>\n",
       "    <tr>\n",
       "      <th>198270</th>\n",
       "      <td>Support</td>\n",
       "      <td>0.4019</td>\n",
       "    </tr>\n",
       "    <tr>\n",
       "      <th>198271</th>\n",
       "      <td>Support.</td>\n",
       "      <td>0.4019</td>\n",
       "    </tr>\n",
       "    <tr>\n",
       "      <th>198272</th>\n",
       "      <td>Support. --</td>\n",
       "      <td>0.4019</td>\n",
       "    </tr>\n",
       "    <tr>\n",
       "      <th>198273</th>\n",
       "      <td>Support.  Age has nothing to do with maturity....</td>\n",
       "      <td>0.4019</td>\n",
       "    </tr>\n",
       "    <tr>\n",
       "      <th>198274</th>\n",
       "      <td>Support - anyone who can write so much, and so...</td>\n",
       "      <td>0.6940</td>\n",
       "    </tr>\n",
       "  </tbody>\n",
       "</table>\n",
       "<p>195647 rows × 2 columns</p>\n",
       "</div>"
      ],
      "text/plain": [
       "                                           Parsed_Comment  sent_score\n",
       "0                                      Support as co-nom.      0.4019\n",
       "1                                 Support as nominator.--      0.4019\n",
       "2                                       Support per noms.      0.4019\n",
       "3       Support per noms. BDD is a strong contributor ...      0.7052\n",
       "4       Support, with great pleasure. I work with BDD ...      0.9349\n",
       "...                                                   ...         ...\n",
       "198270                                            Support      0.4019\n",
       "198271                                           Support.      0.4019\n",
       "198272                                        Support. --      0.4019\n",
       "198273  Support.  Age has nothing to do with maturity....      0.4019\n",
       "198274  Support - anyone who can write so much, and so...      0.6940\n",
       "\n",
       "[195647 rows x 2 columns]"
      ]
     },
     "execution_count": 61,
     "metadata": {},
     "output_type": "execute_result"
    }
   ],
   "source": [
    "print(\"Nombre de commentaires :\", len(sents))\n",
    "\n",
    "doc_copy = doc.copy().to_frame()\n",
    "print(type(doc_copy))\n",
    "doc_copy[\"sent_score\"] = sents\n",
    "doc_copy"
   ]
  },
  {
   "cell_type": "markdown",
   "metadata": {},
   "source": [
    "# Remarque : Il semble y avoir plusieurs valeurs à 0.4019 pour une raison quelconque.."
   ]
  }
 ],
 "metadata": {
  "kernelspec": {
   "display_name": "Python 3 (ipykernel)",
   "language": "python",
   "name": "python3"
  },
  "language_info": {
   "codemirror_mode": {
    "name": "ipython",
    "version": 3
   },
   "file_extension": ".py",
   "mimetype": "text/x-python",
   "name": "python",
   "nbconvert_exporter": "python",
   "pygments_lexer": "ipython3",
   "version": "3.9.18"
  }
 },
 "nbformat": 4,
 "nbformat_minor": 2
}
