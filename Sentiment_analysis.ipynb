{
 "cells": [
  {
   "cell_type": "code",
   "execution_count": 1,
   "metadata": {},
   "outputs": [],
   "source": [
    "import numpy as np\n",
    "import pandas as pd\n",
    "import matplotlib.pyplot as plt\n",
    "import seaborn as sns\n",
    "import warnings\n",
    "import mwparserfromhell\n",
    "import string\n",
    "import vaderSentiment\n",
    "import spacy, nltk, gensim, sklearn\n",
    "import pyLDAvis.gensim_models\n",
    "import re\n",
    "\n",
    "from vaderSentiment.vaderSentiment import SentimentIntensityAnalyzer\n",
    "from textblob import TextBlob\n",
    "from sklearn.feature_extraction.text import TfidfVectorizer\n",
    "from sklearn.metrics.pairwise import cosine_similarity\n",
    "from nltk.corpus import stopwords"
   ]
  },
  {
   "cell_type": "markdown",
   "metadata": {},
   "source": [
    "# Loading Data\n",
    "\n",
    "And correct some date inconcistencies"
   ]
  },
  {
   "cell_type": "code",
   "execution_count": 2,
   "metadata": {},
   "outputs": [
    {
     "data": {
      "text/html": [
       "<div>\n",
       "<style scoped>\n",
       "    .dataframe tbody tr th:only-of-type {\n",
       "        vertical-align: middle;\n",
       "    }\n",
       "\n",
       "    .dataframe tbody tr th {\n",
       "        vertical-align: top;\n",
       "    }\n",
       "\n",
       "    .dataframe thead th {\n",
       "        text-align: right;\n",
       "    }\n",
       "</style>\n",
       "<table border=\"1\" class=\"dataframe\">\n",
       "  <thead>\n",
       "    <tr style=\"text-align: right;\">\n",
       "      <th></th>\n",
       "      <th>Source</th>\n",
       "      <th>Target</th>\n",
       "      <th>Vote</th>\n",
       "      <th>Results</th>\n",
       "      <th>Year</th>\n",
       "      <th>Date</th>\n",
       "      <th>Comment</th>\n",
       "    </tr>\n",
       "  </thead>\n",
       "  <tbody>\n",
       "    <tr>\n",
       "      <th>78697</th>\n",
       "      <td>Leonard^Bloom</td>\n",
       "      <td>Milk's Favorite Cookie</td>\n",
       "      <td>1</td>\n",
       "      <td>-1</td>\n",
       "      <td>2008</td>\n",
       "      <td>17:23, 22 July 2008</td>\n",
       "      <td>'''Strong Support''' Wonderful contributions, ...</td>\n",
       "    </tr>\n",
       "    <tr>\n",
       "      <th>133400</th>\n",
       "      <td>Pschemp</td>\n",
       "      <td>Elf-friend</td>\n",
       "      <td>1</td>\n",
       "      <td>1</td>\n",
       "      <td>2006</td>\n",
       "      <td>02:21, 11 February 2006</td>\n",
       "      <td>'''Support'''. [[User:Pschemp|&lt;small&gt;&lt;font col...</td>\n",
       "    </tr>\n",
       "    <tr>\n",
       "      <th>191448</th>\n",
       "      <td>Alan Au</td>\n",
       "      <td>Zappaz</td>\n",
       "      <td>0</td>\n",
       "      <td>-1</td>\n",
       "      <td>2005</td>\n",
       "      <td>07:06, 10 September 2005</td>\n",
       "      <td>Between the controversy and the odd distributi...</td>\n",
       "    </tr>\n",
       "  </tbody>\n",
       "</table>\n",
       "</div>"
      ],
      "text/plain": [
       "               Source                  Target Vote Results  Year  \\\n",
       "78697   Leonard^Bloom  Milk's Favorite Cookie    1      -1  2008   \n",
       "133400        Pschemp              Elf-friend    1       1  2006   \n",
       "191448        Alan Au                  Zappaz    0      -1  2005   \n",
       "\n",
       "                            Date  \\\n",
       "78697        17:23, 22 July 2008   \n",
       "133400   02:21, 11 February 2006   \n",
       "191448  07:06, 10 September 2005   \n",
       "\n",
       "                                                  Comment  \n",
       "78697   '''Strong Support''' Wonderful contributions, ...  \n",
       "133400  '''Support'''. [[User:Pschemp|<small><font col...  \n",
       "191448  Between the controversy and the odd distributi...  "
      ]
     },
     "execution_count": 2,
     "metadata": {},
     "output_type": "execute_result"
    }
   ],
   "source": [
    "# Read the file into a list of lines\n",
    "with open('wiki-RfA.txt', 'r', encoding=\"utf8\") as file:\n",
    "    lines = file.readlines()\n",
    "\n",
    "# Create a list of dictionaries, where each dictionary represents a record\n",
    "df = []\n",
    "current_entry = {}\n",
    "\n",
    "# Iterate through each line, current_entry = one log entry with all columns, df = list of all votee/voter pairs\n",
    "for line in lines:\n",
    "    line = line.strip()\n",
    "    if line:\n",
    "        key, value = line.split(':', 1)\n",
    "        current_entry[key] = value\n",
    "    else:\n",
    "        df.append(current_entry)\n",
    "        current_entry = {}\n",
    "\n",
    "# Append  last record\n",
    "if current_entry:\n",
    "    df.append(current_entry)\n",
    "\n",
    "# Convert into DataFrame and store in csv\n",
    "df = pd.DataFrame(df)\n",
    "df.columns = ['Source', 'Target', 'Vote', 'Results', 'Year', 'Date', 'Comment']\n",
    "original_df = df.copy()\n",
    "df.sample(3)"
   ]
  },
  {
   "cell_type": "code",
   "execution_count": 3,
   "metadata": {},
   "outputs": [
    {
     "data": {
      "text/html": [
       "<div>\n",
       "<style scoped>\n",
       "    .dataframe tbody tr th:only-of-type {\n",
       "        vertical-align: middle;\n",
       "    }\n",
       "\n",
       "    .dataframe tbody tr th {\n",
       "        vertical-align: top;\n",
       "    }\n",
       "\n",
       "    .dataframe thead th {\n",
       "        text-align: right;\n",
       "    }\n",
       "</style>\n",
       "<table border=\"1\" class=\"dataframe\">\n",
       "  <thead>\n",
       "    <tr style=\"text-align: right;\">\n",
       "      <th></th>\n",
       "      <th>Source</th>\n",
       "      <th>Target</th>\n",
       "      <th>Vote</th>\n",
       "      <th>Results</th>\n",
       "      <th>Year</th>\n",
       "      <th>Date</th>\n",
       "      <th>Comment</th>\n",
       "    </tr>\n",
       "  </thead>\n",
       "  <tbody>\n",
       "    <tr>\n",
       "      <th>25361</th>\n",
       "      <td>Unionhawk</td>\n",
       "      <td>Shirik</td>\n",
       "      <td>1</td>\n",
       "      <td>1</td>\n",
       "      <td>2010</td>\n",
       "      <td>2010-04-26 17:08:00</td>\n",
       "      <td>'''Support''' - all right, I'm convinced now...--</td>\n",
       "    </tr>\n",
       "    <tr>\n",
       "      <th>36324</th>\n",
       "      <td>Davewild</td>\n",
       "      <td>Franamax</td>\n",
       "      <td>1</td>\n",
       "      <td>1</td>\n",
       "      <td>2009</td>\n",
       "      <td>2009-11-05 07:52:00</td>\n",
       "      <td>'''Support''' I don't see anything that makes ...</td>\n",
       "    </tr>\n",
       "    <tr>\n",
       "      <th>119335</th>\n",
       "      <td>Rudget</td>\n",
       "      <td>Mercury</td>\n",
       "      <td>0</td>\n",
       "      <td>-1</td>\n",
       "      <td>2007</td>\n",
       "      <td>2007-12-28 22:44:00</td>\n",
       "      <td>'''Neutral''' - I like this editor, but oppose...</td>\n",
       "    </tr>\n",
       "  </tbody>\n",
       "</table>\n",
       "</div>"
      ],
      "text/plain": [
       "           Source    Target Vote Results  Year                Date  \\\n",
       "25361   Unionhawk    Shirik    1       1  2010 2010-04-26 17:08:00   \n",
       "36324    Davewild  Franamax    1       1  2009 2009-11-05 07:52:00   \n",
       "119335     Rudget   Mercury    0      -1  2007 2007-12-28 22:44:00   \n",
       "\n",
       "                                                  Comment  \n",
       "25361   '''Support''' - all right, I'm convinced now...--  \n",
       "36324   '''Support''' I don't see anything that makes ...  \n",
       "119335  '''Neutral''' - I like this editor, but oppose...  "
      ]
     },
     "execution_count": 3,
     "metadata": {},
     "output_type": "execute_result"
    }
   ],
   "source": [
    "# Set Nan values\n",
    "# replace field that's entirely space (or empty) with NaN (the case for some Source, Date and Comment)\n",
    "df.replace(r'^\\s*$', np.nan, regex=True, inplace=True)\n",
    "\n",
    "#handle NaN values in Comment for vectorization\n",
    "df.Comment = df.Comment.replace(np.nan, None)\n",
    "\n",
    "# replace inconsistent date\n",
    "df['Date'] = df['Date'].str.replace('Julu ', 'July ')\n",
    "df['Date'] = df['Date'].str.replace('Janry ', 'January ')\n",
    "df['Date'] = df['Date'].str.replace('Mya ', 'May ')\n",
    "df['Date'] = df['Date'].str.replace('Jan ', 'January ')\n",
    "df['Date'] = df['Date'].str.replace('Feb ', 'February ')\n",
    "df['Date'] = df['Date'].str.replace('Mar ', 'March ')\n",
    "df['Date'] = df['Date'].str.replace('Apr ', 'April ')\n",
    "df['Date'] = df['Date'].str.replace('Jun ', 'June ')\n",
    "df['Date'] = df['Date'].str.replace('Jul ', 'July ')\n",
    "df['Date'] = df['Date'].str.replace('Aug ', 'August ')\n",
    "df['Date'] = df['Date'].str.replace('Sep ', 'September ')\n",
    "df['Date'] = df['Date'].str.replace('Oct ', 'October ')\n",
    "df['Date'] = df['Date'].str.replace('Nov ', 'November ')\n",
    "df['Date'] = df['Date'].str.replace('Dec ', 'December ')\n",
    "\n",
    "# Convert Date to datetime\n",
    "df['Date'] = pd.to_datetime(df['Date'], format='%H:%M, %d %B %Y', errors='coerce')\n",
    "\n",
    "# Convert Year to int\n",
    "df['Year'] = df['Year'].astype(int)\n",
    "\n",
    "df.sample(3)"
   ]
  },
  {
   "cell_type": "code",
   "execution_count": 4,
   "metadata": {},
   "outputs": [
    {
     "data": {
      "text/html": [
       "<div>\n",
       "<style scoped>\n",
       "    .dataframe tbody tr th:only-of-type {\n",
       "        vertical-align: middle;\n",
       "    }\n",
       "\n",
       "    .dataframe tbody tr th {\n",
       "        vertical-align: top;\n",
       "    }\n",
       "\n",
       "    .dataframe thead th {\n",
       "        text-align: right;\n",
       "    }\n",
       "</style>\n",
       "<table border=\"1\" class=\"dataframe\">\n",
       "  <thead>\n",
       "    <tr style=\"text-align: right;\">\n",
       "      <th></th>\n",
       "      <th>Source</th>\n",
       "      <th>Target</th>\n",
       "      <th>Vote</th>\n",
       "      <th>Results</th>\n",
       "      <th>Year</th>\n",
       "      <th>Date</th>\n",
       "      <th>Comment</th>\n",
       "    </tr>\n",
       "  </thead>\n",
       "  <tbody>\n",
       "    <tr>\n",
       "      <th>187045</th>\n",
       "      <td>Kelly Martin</td>\n",
       "      <td>Alphax</td>\n",
       "      <td>1</td>\n",
       "      <td>-1</td>\n",
       "      <td>2005.0</td>\n",
       "      <td>2005-10-18 15:32:00</td>\n",
       "      <td>'''Support'''.  I am tired of being asked by t...</td>\n",
       "    </tr>\n",
       "    <tr>\n",
       "      <th>41036</th>\n",
       "      <td>Drilnoth</td>\n",
       "      <td>Plastikspork</td>\n",
       "      <td>1</td>\n",
       "      <td>1</td>\n",
       "      <td>2009.0</td>\n",
       "      <td>2009-06-18 21:27:00</td>\n",
       "      <td>Being the nom and all... '''support'''. –</td>\n",
       "    </tr>\n",
       "    <tr>\n",
       "      <th>75572</th>\n",
       "      <td>Daniel Case</td>\n",
       "      <td>Geni</td>\n",
       "      <td>1</td>\n",
       "      <td>-1</td>\n",
       "      <td>2008.0</td>\n",
       "      <td>2008-08-25 02:13:00</td>\n",
       "      <td>'''Support'''. I never had any personal issues...</td>\n",
       "    </tr>\n",
       "  </tbody>\n",
       "</table>\n",
       "</div>"
      ],
      "text/plain": [
       "              Source        Target Vote Results    Year                Date  \\\n",
       "187045  Kelly Martin        Alphax    1      -1  2005.0 2005-10-18 15:32:00   \n",
       "41036       Drilnoth  Plastikspork    1       1  2009.0 2009-06-18 21:27:00   \n",
       "75572    Daniel Case          Geni    1      -1  2008.0 2008-08-25 02:13:00   \n",
       "\n",
       "                                                  Comment  \n",
       "187045  '''Support'''.  I am tired of being asked by t...  \n",
       "41036           Being the nom and all... '''support'''. –  \n",
       "75572   '''Support'''. I never had any personal issues...  "
      ]
     },
     "execution_count": 4,
     "metadata": {},
     "output_type": "execute_result"
    }
   ],
   "source": [
    "# Select users with a significant number of duplicates (by manually checking the data we found that 6 discriminate perfectly between users with actual duplicates and users with only missing data or basic comments)\n",
    "users_with_duplicates = df[df.duplicated(['Source', 'Target', 'Comment', 'Date'], keep=False) & df.Source.notnull()].groupby('Target').size() >= 6\n",
    "users_with_duplicates = users_with_duplicates[users_with_duplicates].index\n",
    "duplicates = df[df.Target.isin(users_with_duplicates) & df.duplicated(['Source', 'Target', 'Comment', 'Date'], keep=False) & df.Source.notnull()].sort_values(by=['Target', 'Source', 'Date'])\n",
    "#Remove the data of to_remove from df\n",
    "df = df.drop(duplicates.index)\n",
    "\n",
    "\n",
    "# Deal with duplicates that have different results \n",
    "perc_vote = (duplicates.groupby(['Target', 'Year']).Vote.value_counts(normalize=True) * 100).unstack(level='Vote')\n",
    "perc_vote['Result'] = perc_vote.apply(lambda x: 1 if x['1'] >= 70 else -1, axis=1, result_type='reduce')\n",
    "# Replace results in duplicates with results in perc_vote\n",
    "duplicates['Results'] = duplicates.apply(lambda x: perc_vote.loc[(x['Target'], x['Year'])]['Result'].astype(int), axis=1)\n",
    "\n",
    "\n",
    "# Deal with duplicates that have different years\n",
    "correct_year = pd.DataFrame({'Year': duplicates.Date.dt.year, 'Target': duplicates.Target})\n",
    "# Replace nan values in Year with most common year for each Target (some Dates are missing)\n",
    "correct_year.Year = correct_year.groupby('Target').Year.transform(lambda x: x.fillna(x.mode()[0]))\n",
    "# Replace years in duplicates with years in correct_year\n",
    "duplicates = duplicates.drop(columns='Year').join(correct_year.Year)\n",
    "\n",
    "# Drop the duplicate rows \n",
    "duplicates.drop_duplicates(keep='first', inplace=True)\n",
    "# Add the duplicates to df\n",
    "df = pd.concat([df, duplicates]).sort_index()\n",
    "\n",
    "\n",
    "# Deal with duplicates that have different Vote\n",
    "double_vote = df[df.duplicated(['Source', 'Target', 'Comment', 'Date'], keep=False) & df.Source.notnull() & df.Date.notnull() & (df.Vote == '0')]\n",
    "# Drop the double_vote rows\n",
    "df.drop(double_vote.index, inplace=True)\n",
    "\n",
    "df.sample(3)"
   ]
  },
  {
   "cell_type": "markdown",
   "metadata": {},
   "source": [
    "# -- Sentiment analysis --"
   ]
  },
  {
   "cell_type": "markdown",
   "metadata": {},
   "source": [
    "## Showing differences between removing the headers (support, neutral, oppose) vs keeping them"
   ]
  },
  {
   "cell_type": "code",
   "execution_count": 34,
   "metadata": {},
   "outputs": [],
   "source": [
    "# Libraries\n",
    "import vaderSentiment\n",
    "from vaderSentiment.vaderSentiment import SentimentIntensityAnalyzer\n",
    "import spacy, nltk, gensim, sklearn\n",
    "import pyLDAvis.gensim_models\n",
    "import en_core_web_sm\n",
    "nlp = spacy.load(\"en_core_web_sm\")"
   ]
  },
  {
   "cell_type": "code",
   "execution_count": 6,
   "metadata": {},
   "outputs": [],
   "source": [
    "#Parse the comments to a new column\n",
    "df_comment = pd.read_csv('wiki-RfA.csv', index_col=0, parse_dates=['Date'])\n",
    "\n",
    "df_comment['Comment'] = df_comment['Comment'].apply(lambda x: [] if pd.isna(x) else x)\n",
    "df_comment[\"Parsed_Comment\"] = df_comment.Comment.apply(lambda x: mwparserfromhell.parse(x).strip_code())"
   ]
  },
  {
   "cell_type": "code",
   "execution_count": 7,
   "metadata": {},
   "outputs": [],
   "source": [
    "#Initialize a dataframe containing only relevant info for futur comment analysis\n",
    "stat_df = pd.DataFrame(columns = ['Source','Vote', 'Comment', 'Parsed_Comment'])\n",
    "stat_df['Vote']=df_comment['Vote']\n",
    "stat_df['Source']=df_comment['Source']\n",
    "stat_df['Comment'] = df_comment['Comment']\n",
    "stat_df['Parsed_Comment']=df_comment['Parsed_Comment']"
   ]
  },
  {
   "cell_type": "code",
   "execution_count": 53,
   "metadata": {},
   "outputs": [],
   "source": [
    "# Strings to remove for sentiment analysis without headers (support, oppose, neutral)\n",
    "\n",
    "df_sentiment = df_comment.copy()\n",
    "df_sentiment_with_headers = df_comment.copy()\n",
    "\n",
    "support_pattern = re.compile(r'^\\bsupport\\w*\\b', flags=re.IGNORECASE)\n",
    "df_sentiment[\"Parsed_Comment\"] = df_sentiment[\"Parsed_Comment\"].str.replace(support_pattern, '', regex=True)\n",
    "neutral_pattern = re.compile(r'^\\bneutral\\w*\\b', flags=re.IGNORECASE)\n",
    "df_sentiment[\"Parsed_Comment\"] = df_sentiment[\"Parsed_Comment\"].str.replace(neutral_pattern, '', regex=True)\n",
    "oppose_pattern = re.compile(r'^\\boppose\\w*\\b', flags=re.IGNORECASE)\n",
    "df_sentiment[\"Parsed_Comment\"] = df_sentiment[\"Parsed_Comment\"].str.replace(oppose_pattern, '', regex=True)\n",
    "\n",
    "#strings_to_remove = ['support', 'neutral', 'oppose']\n",
    "\n",
    "#for string in strings_to_remove:\n",
    " #   df_sentiment[\"Parsed_Comment\"] = df_sentiment[\"Parsed_Comment\"].str.replace(string, '', case=False)"
   ]
  },
  {
   "cell_type": "code",
   "execution_count": 70,
   "metadata": {},
   "outputs": [
    {
     "name": "stdout",
     "output_type": "stream",
     "text": [
      "\n",
      "---Without headers--- \n",
      " 1123     - Never let perfection get in the way of good...\n",
      "1124                       Supporting coz I trust nom. --\n",
      "1125    User wishes to work at AfD, but I cannot find ...\n",
      "1127     Would seem to be well qualified to be an admi...\n",
      "1129     I too have looked at this material, and I agr...\n",
      "1130    Based on the lightweight AFD work.  Part of be...\n",
      "1131     I was contemplating support, but the editor w...\n",
      "1132                  Based on AfD concerns raised above.\n",
      "1133     - Matty is a great all around candidate, othe...\n",
      "1134    Per answers to the questions and areas of inte...\n",
      "Name: Parsed_Comment, dtype: object\n",
      "\n",
      "---With headers--- \n",
      " 1123    Support - Never let perfection get in the way ...\n",
      "1124               Support Supporting coz I trust nom. --\n",
      "1125    User wishes to work at AfD, but I cannot find ...\n",
      "1127    Oppose Would seem to be well qualified to be a...\n",
      "1129    Oppose I too have looked at this material, and...\n",
      "1130    Based on the lightweight AFD work.  Part of be...\n",
      "1131    Oppose I was contemplating support, but the ed...\n",
      "1132           Oppose Based on AfD concerns raised above.\n",
      "1133    Neutral - Matty is a great all around candidat...\n",
      "1134    Per answers to the questions and areas of inte...\n",
      "Name: Parsed_Comment, dtype: object\n"
     ]
    }
   ],
   "source": [
    "print(\"\\n---Without headers--- \\n\", df_sentiment[\"Parsed_Comment\"][1120:1130])\n",
    "print(\"\\n---With headers--- \\n\", df_sentiment_with_headers[\"Parsed_Comment\"][1120:1130])"
   ]
  },
  {
   "cell_type": "code",
   "execution_count": 55,
   "metadata": {},
   "outputs": [],
   "source": [
    "analyzer = SentimentIntensityAnalyzer()\n",
    "\n",
    "vs = analyzer.polarity_scores(df_sentiment[\"Parsed_Comment\"][0])\n",
    "vs_with_headers = analyzer.polarity_scores(df_sentiment_with_headers[\"Parsed_Comment\"][0])"
   ]
  },
  {
   "cell_type": "code",
   "execution_count": 56,
   "metadata": {},
   "outputs": [
    {
     "name": "stdout",
     "output_type": "stream",
     "text": [
      " as co-nom. \n",
      "\n",
      "Negative sentiment: 0.0\n",
      "Neutral sentiment: 1.0\n",
      "Positive sentiment: 0.0\n",
      "Compound sentiment: 0.0\n",
      "Support as co-nom. \n",
      "\n",
      "Negative sentiment: 0.0\n",
      "Neutral sentiment: 0.426\n",
      "Positive sentiment: 0.574\n",
      "Compound sentiment: 0.4019\n"
     ]
    }
   ],
   "source": [
    "print(df_sentiment[\"Parsed_Comment\"][0], '\\n')\n",
    "print('Negative sentiment:',vs['neg'])\n",
    "print('Neutral sentiment:',vs['neu'])\n",
    "print('Positive sentiment:',vs['pos'])\n",
    "print('Compound sentiment:',vs['compound'])\n",
    "\n",
    "print(df_sentiment_with_headers[\"Parsed_Comment\"][0], '\\n')\n",
    "print('Negative sentiment:',vs_with_headers['neg'])\n",
    "print('Neutral sentiment:',vs_with_headers['neu'])\n",
    "print('Positive sentiment:',vs_with_headers['pos'])\n",
    "print('Compound sentiment:',vs_with_headers['compound'])"
   ]
  },
  {
   "cell_type": "code",
   "execution_count": 57,
   "metadata": {},
   "outputs": [
    {
     "name": "stdout",
     "output_type": "stream",
     "text": [
      "(195647,)\n",
      "(195647,)\n"
     ]
    }
   ],
   "source": [
    "doc = df_sentiment[\"Parsed_Comment\"]\n",
    "doc_with_headers = df_sentiment_with_headers[\"Parsed_Comment\"]\n",
    "print(doc.shape)\n",
    "print(doc_with_headers.shape)"
   ]
  },
  {
   "cell_type": "code",
   "execution_count": 58,
   "metadata": {},
   "outputs": [
    {
     "data": {
      "text/plain": [
       "Text(0.5, 1.0, 'With headers : Positive sentiment score')"
      ]
     },
     "execution_count": 58,
     "metadata": {},
     "output_type": "execute_result"
    },
    {
     "data": {
      "image/png": "[encoded data removed]",
      "text/plain": [
       "<Figure size 1200x400 with 2 Axes>"
      ]
     },
     "metadata": {},
     "output_type": "display_data"
    }
   ],
   "source": [
    "positive_sent = []\n",
    "[positive_sent.append(analyzer.polarity_scores(sent)['pos']) for sent in doc]\n",
    "\n",
    "positive_sent_with_headers = []\n",
    "[positive_sent_with_headers.append(analyzer.polarity_scores(sent)['pos']) for sent in doc_with_headers]\n",
    "\n",
    "fig, axs = plt.subplots(1, 2, figsize=(12, 4))\n",
    "\n",
    "axs[0].hist(positive_sent, bins=15)\n",
    "axs[0].set_xlim([0, 1])\n",
    "axs[0].set_ylim([0, 195647])\n",
    "axs[0].set_xlabel('Positive sentiment')\n",
    "axs[0].set_ylabel('Number of comments')\n",
    "axs[0].set_title('Without headers : Positive sentiment scores')\n",
    "\n",
    "axs[1].hist(positive_sent_with_headers, bins=15)\n",
    "axs[1].set_xlim([0, 1])\n",
    "axs[1].set_ylim([0, 195647])\n",
    "axs[1].set_xlabel('Positive sentiment')\n",
    "axs[1].set_ylabel('Number of comments')\n",
    "axs[1].set_title('With headers : Positive sentiment score')"
   ]
  },
  {
   "cell_type": "code",
   "execution_count": 59,
   "metadata": {},
   "outputs": [
    {
     "data": {
      "text/plain": [
       "Text(0.5, 1.0, 'With headers : Negative sentiment score')"
      ]
     },
     "execution_count": 59,
     "metadata": {},
     "output_type": "execute_result"
    },
    {
     "data": {
      "image/png": "[encoded data removed]",
      "text/plain": [
       "<Figure size 1200x400 with 2 Axes>"
      ]
     },
     "metadata": {},
     "output_type": "display_data"
    }
   ],
   "source": [
    "negative_sent = []\n",
    "[negative_sent.append(analyzer.polarity_scores(sent)['neg']) for sent in doc]\n",
    "\n",
    "negative_sent_with_headers = []\n",
    "[negative_sent_with_headers.append(analyzer.polarity_scores(sent)['neg']) for sent in doc_with_headers]\n",
    "\n",
    "fig, axs = plt.subplots(1, 2, figsize=(12, 4))\n",
    "\n",
    "axs[0].hist(negative_sent, bins=15)\n",
    "axs[0].set_xlim([0, 1])\n",
    "axs[0].set_ylim([0, 195647])\n",
    "axs[0].set_xlabel('Negative sentiment')\n",
    "axs[0].set_ylabel('Number of comments')\n",
    "axs[0].set_title('Without headers : Negative sentiment scores')\n",
    "\n",
    "axs[1].hist(negative_sent_with_headers, bins=15)\n",
    "axs[1].set_xlim([0, 1])\n",
    "axs[1].set_ylim([0, 195647])\n",
    "axs[1].set_xlabel('Negative sentiment')\n",
    "axs[1].set_ylabel('Number of comments')\n",
    "axs[1].set_title('With headers : Negative sentiment score')"
   ]
  },
  {
   "cell_type": "code",
   "execution_count": 71,
   "metadata": {},
   "outputs": [
    {
     "data": {
      "text/plain": [
       "Text(0.5, 1.0, 'With headers : Compound sentiment score')"
      ]
     },
     "execution_count": 71,
     "metadata": {},
     "output_type": "execute_result"
    },
    {
     "data": {
      "image/png": "[encoded data removed]",
      "text/plain": [
       "<Figure size 1200x400 with 2 Axes>"
      ]
     },
     "metadata": {},
     "output_type": "display_data"
    }
   ],
   "source": [
    "total_sent = []\n",
    "[total_sent.append(analyzer.polarity_scores(sent)['compound']) for sent in doc]\n",
    "\n",
    "total_sent_with_headers = []\n",
    "[total_sent_with_headers.append(analyzer.polarity_scores(sent)['compound']) for sent in doc_with_headers]\n",
    "\n",
    "fig, axs = plt.subplots(1, 2, figsize=(12, 4))\n",
    "\n",
    "axs[0].hist(total_sent, bins=15)\n",
    "axs[0].set_xlim([-1, 1])\n",
    "axs[0].set_ylim([0, 195647])\n",
    "axs[0].set_xlabel('Compound sentiment')\n",
    "axs[0].set_ylabel('Number of comments')\n",
    "axs[0].set_title('Without headers : Compound sentiment scores')\n",
    "\n",
    "axs[1].hist(total_sent_with_headers, bins=15)\n",
    "axs[1].set_xlim([-1, 1])\n",
    "axs[1].set_ylim([0, 195647])\n",
    "axs[1].set_xlabel('Compound sentiment')\n",
    "axs[1].set_ylabel('Number of comments')\n",
    "axs[1].set_title('With headers : Compound sentiment score')"
   ]
  },
  {
   "cell_type": "code",
   "execution_count": 63,
   "metadata": {},
   "outputs": [
    {
     "name": "stdout",
     "output_type": "stream",
     "text": [
      "Number of positive sentences: 112613\n",
      "Number of negative sentences: 30093\n",
      "Number of neutral sentences: 52941\n",
      "\n",
      " With headers : \n",
      "Number of positive sentences: 147934\n",
      "Number of negative sentences: 24062\n",
      "Number of neutral sentences: 23651\n"
     ]
    }
   ],
   "source": [
    "sents = [analyzer.polarity_scores(sent)['compound'] for sent in doc]\n",
    "print('Number of positive sentences:',sum(np.array(sents)>=0.05))\n",
    "print('Number of negative sentences:',sum(np.array(sents)<=-0.05))\n",
    "print('Number of neutral sentences:',sum(np.abs(np.array(sents))<0.05))\n",
    "\n",
    "print(\"\\n With headers : \")\n",
    "sents_with_headers = [analyzer.polarity_scores(sent)['compound'] for sent in doc_with_headers]\n",
    "print('Number of positive sentences:',sum(np.array(sents_with_headers)>=0.05))\n",
    "print('Number of negative sentences:',sum(np.array(sents_with_headers)<=-0.05))\n",
    "print('Number of neutral sentences:',sum(np.abs(np.array(sents_with_headers))<0.05))"
   ]
  },
  {
   "cell_type": "code",
   "execution_count": 73,
   "metadata": {},
   "outputs": [
    {
     "name": "stdout",
     "output_type": "stream",
     "text": [
      "Nombre de commentaires : 195647\n",
      "<class 'pandas.core.frame.DataFrame'>\n"
     ]
    },
    {
     "data": {
      "text/html": [
       "<div>\n",
       "<style scoped>\n",
       "    .dataframe tbody tr th:only-of-type {\n",
       "        vertical-align: middle;\n",
       "    }\n",
       "\n",
       "    .dataframe tbody tr th {\n",
       "        vertical-align: top;\n",
       "    }\n",
       "\n",
       "    .dataframe thead th {\n",
       "        text-align: right;\n",
       "    }\n",
       "</style>\n",
       "<table border=\"1\" class=\"dataframe\">\n",
       "  <thead>\n",
       "    <tr style=\"text-align: right;\">\n",
       "      <th></th>\n",
       "      <th>Parsed_Comment</th>\n",
       "      <th>sent_score</th>\n",
       "    </tr>\n",
       "  </thead>\n",
       "  <tbody>\n",
       "    <tr>\n",
       "      <th>0</th>\n",
       "      <td>as co-nom.</td>\n",
       "      <td>0.0000</td>\n",
       "    </tr>\n",
       "    <tr>\n",
       "      <th>1</th>\n",
       "      <td>as nominator.--</td>\n",
       "      <td>0.0000</td>\n",
       "    </tr>\n",
       "    <tr>\n",
       "      <th>2</th>\n",
       "      <td>per noms.</td>\n",
       "      <td>0.0000</td>\n",
       "    </tr>\n",
       "    <tr>\n",
       "      <th>3</th>\n",
       "      <td>per noms. BDD is a strong contributor with th...</td>\n",
       "      <td>0.4857</td>\n",
       "    </tr>\n",
       "    <tr>\n",
       "      <th>4</th>\n",
       "      <td>, with great pleasure. I work with BDD at the ...</td>\n",
       "      <td>0.9100</td>\n",
       "    </tr>\n",
       "    <tr>\n",
       "      <th>...</th>\n",
       "      <td>...</td>\n",
       "      <td>...</td>\n",
       "    </tr>\n",
       "    <tr>\n",
       "      <th>198270</th>\n",
       "      <td></td>\n",
       "      <td>0.0000</td>\n",
       "    </tr>\n",
       "    <tr>\n",
       "      <th>198271</th>\n",
       "      <td>.</td>\n",
       "      <td>0.0000</td>\n",
       "    </tr>\n",
       "    <tr>\n",
       "      <th>198272</th>\n",
       "      <td>. --</td>\n",
       "      <td>0.0000</td>\n",
       "    </tr>\n",
       "    <tr>\n",
       "      <th>198273</th>\n",
       "      <td>.  Age has nothing to do with maturity.  --</td>\n",
       "      <td>0.0000</td>\n",
       "    </tr>\n",
       "    <tr>\n",
       "      <th>198274</th>\n",
       "      <td>- anyone who can write so much, and so well, ...</td>\n",
       "      <td>0.4648</td>\n",
       "    </tr>\n",
       "  </tbody>\n",
       "</table>\n",
       "<p>195647 rows × 2 columns</p>\n",
       "</div>"
      ],
      "text/plain": [
       "                                           Parsed_Comment  sent_score\n",
       "0                                              as co-nom.      0.0000\n",
       "1                                         as nominator.--      0.0000\n",
       "2                                               per noms.      0.0000\n",
       "3        per noms. BDD is a strong contributor with th...      0.4857\n",
       "4       , with great pleasure. I work with BDD at the ...      0.9100\n",
       "...                                                   ...         ...\n",
       "198270                                                         0.0000\n",
       "198271                                                  .      0.0000\n",
       "198272                                               . --      0.0000\n",
       "198273        .  Age has nothing to do with maturity.  --      0.0000\n",
       "198274   - anyone who can write so much, and so well, ...      0.4648\n",
       "\n",
       "[195647 rows x 2 columns]"
      ]
     },
     "execution_count": 73,
     "metadata": {},
     "output_type": "execute_result"
    }
   ],
   "source": [
    "print(\"Nombre de commentaires :\", len(sents))\n",
    "\n",
    "df_sentiment_with_score = doc.copy().to_frame()\n",
    "print(type(doc_copy))\n",
    "df_sentiment_with_score[\"sent_score\"] = sents\n",
    "df_sentiment_with_score"
   ]
  },
  {
   "cell_type": "code",
   "execution_count": 74,
   "metadata": {},
   "outputs": [],
   "source": [
    "df_sentiment_with_score.to_csv('df_sentiment_analysis_score_per_comment.csv')"
   ]
  }
 ],
 "metadata": {
  "kernelspec": {
   "display_name": "Python 3 (ipykernel)",
   "language": "python",
   "name": "python3"
  },
  "language_info": {
   "codemirror_mode": {
    "name": "ipython",
    "version": 3
   },
   "file_extension": ".py",
   "mimetype": "text/x-python",
   "name": "python",
   "nbconvert_exporter": "python",
   "pygments_lexer": "ipython3",
   "version": "3.9.18"
  }
 },
 "nbformat": 4,
 "nbformat_minor": 2
}
