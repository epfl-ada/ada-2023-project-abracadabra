{
 "cells": [
  {
   "cell_type": "code",
   "execution_count": 1,
   "metadata": {},
   "outputs": [],
   "source": [
    "import numpy as np\n",
    "import pandas as pd\n",
    "import matplotlib.pyplot as plt\n",
    "import seaborn as sns\n",
    "import warnings\n",
    "import mwparserfromhell"
   ]
  },
  {
   "cell_type": "markdown",
   "metadata": {},
   "source": [
    "# Loading Data\n",
    "\n",
    "And correct some date inconcistencies\n",
    "\n",
    "### From early version of Emma's code"
   ]
  },
  {
   "cell_type": "code",
   "execution_count": 2,
   "metadata": {},
   "outputs": [],
   "source": [
    "# Read the file into a list of lines\n",
    "with open('wiki-RfA.txt', 'r') as file:\n",
    "    lines = file.readlines()\n",
    "\n",
    "# Create a list of dictionaries, where each dictionary represents a record\n",
    "df = []\n",
    "current_entry = {}\n",
    "\n",
    "# Iterate through each line, current_entry = one log entry with all columns, df = list of all votee/voter pairs\n",
    "for line in lines:\n",
    "    line = line.strip()\n",
    "    if line:\n",
    "        key, value = line.split(':', 1)\n",
    "        current_entry[key] = value\n",
    "    else:\n",
    "        df.append(current_entry)\n",
    "        current_entry = {}\n",
    "\n",
    "# Append  last record\n",
    "if current_entry:\n",
    "    df.append(current_entry)\n",
    "\n",
    "# Convert into DataFrame and store in csv\n",
    "df = pd.DataFrame(df)\n",
    "df.columns = ['Source', 'Target', 'Vote', 'Results', 'Year', 'Date', 'Comment']\n",
    "\n",
    "df.to_csv('wiki-RfA.csv')\n",
    "\n",
    "# Set Nan values\n",
    "# replace field that's entirely space (or empty) with NaN\n",
    "df.replace(r'^\\s*$', np.nan, regex=True, inplace=True)\n",
    "\n",
    "# replace inconsistent date\n",
    "df['Date'] = df['Date'].str.replace('Julu ', 'July ')\n",
    "df['Date'] = df['Date'].str.replace('Janry ', 'January ')\n",
    "df['Date'] = df['Date'].str.replace('Mya ', 'May ')\n",
    "df['Date'] = df['Date'].str.replace('Jan ', 'January ')\n",
    "df['Date'] = df['Date'].str.replace('Feb ', 'February ')\n",
    "df['Date'] = df['Date'].str.replace('Mar ', 'March ')\n",
    "df['Date'] = df['Date'].str.replace('Apr ', 'April ')\n",
    "df['Date'] = df['Date'].str.replace('Jun ', 'June ')\n",
    "df['Date'] = df['Date'].str.replace('Jul ', 'July ')\n",
    "df['Date'] = df['Date'].str.replace('Aug ', 'August ')\n",
    "df['Date'] = df['Date'].str.replace('Sep ', 'September ')\n",
    "df['Date'] = df['Date'].str.replace('Oct ', 'October ')\n",
    "df['Date'] = df['Date'].str.replace('Nov ', 'November ')\n",
    "df['Date'] = df['Date'].str.replace('Dec ', 'December ')\n",
    "\n",
    "# Convert Date to datetime\n",
    "df['Date'] = pd.to_datetime(df['Date'], format='%H:%M, %d %B %Y', errors='coerce')"
   ]
  },
  {
   "cell_type": "markdown",
   "metadata": {},
   "source": [
    "### Adds to do in order to make my (JD) code to work"
   ]
  },
  {
   "cell_type": "code",
   "execution_count": 3,
   "metadata": {},
   "outputs": [],
   "source": [
    "df.Year = df.Year.astype('Int64')\n",
    "df.Comment = df.Comment.astype(str)"
   ]
  },
  {
   "cell_type": "markdown",
   "metadata": {},
   "source": [
    "# Information Extraction from Comments\n",
    "\n",
    "First create a parsed column with only text infromation from Wikitext (markup language) "
   ]
  },
  {
   "cell_type": "code",
   "execution_count": 4,
   "metadata": {},
   "outputs": [],
   "source": [
    "df[\"Parsed_Comment\"] = df.Comment.apply(lambda x: mwparserfromhell.parse(x).strip_code())"
   ]
  },
  {
   "cell_type": "code",
   "execution_count": null,
   "metadata": {},
   "outputs": [],
   "source": []
  },
  {
   "cell_type": "markdown",
   "metadata": {},
   "source": [
    "# Work in progress"
   ]
  },
  {
   "cell_type": "code",
   "execution_count": null,
   "metadata": {},
   "outputs": [],
   "source": [
    "max_year = df['Year'].max()\n",
    "min_year = df['Year'].min()\n",
    "mean_year = df['Year'].mean()\n",
    "\n",
    "print(f\"max_year: {max_year}\\n min_year: {min_year}\\n mean_year: {mean_year}\")"
   ]
  },
  {
   "cell_type": "code",
   "execution_count": null,
   "metadata": {},
   "outputs": [],
   "source": [
    "## Obsolete\n",
    "\n",
    "df.Comment = df.Comment.astype('str')\n",
    "\n",
    "def getting_tags_number(comment):\n",
    "    if \"'''\" in comment:\n",
    "        return len(comment.split(\"'''\")) - 2\n",
    "    else:\n",
    "        return 0\n",
    "\n",
    "def getting_tags_list(comment):\n",
    "    if \"'''\" in comment[:4]:\n",
    "        text = comment.split(\"'''\")[1]\n",
    "        if len(text.split(\" \")) > 5:\n",
    "            return text\n",
    "        else:   \n",
    "            return \"\"\n",
    "    else:\n",
    "        return \"\"\n",
    "\n",
    "df[\"CommentTags\"] = df.Comment.apply(getting_tags_list)\n",
    "df[\"NumberCommentTag\"] = df.Comment.apply(getting_tags_number)\n",
    "\n",
    "for t in df.CommentTags.unique()[250:270]:\n",
    "    print(t)"
   ]
  }
 ],
 "metadata": {
  "kernelspec": {
   "display_name": "ada",
   "language": "python",
   "name": "python3"
  },
  "language_info": {
   "codemirror_mode": {
    "name": "ipython",
    "version": 3
   },
   "file_extension": ".py",
   "mimetype": "text/x-python",
   "name": "python",
   "nbconvert_exporter": "python",
   "pygments_lexer": "ipython3",
   "version": "3.9.18"
  },
  "orig_nbformat": 4
 },
 "nbformat": 4,
 "nbformat_minor": 2
}
